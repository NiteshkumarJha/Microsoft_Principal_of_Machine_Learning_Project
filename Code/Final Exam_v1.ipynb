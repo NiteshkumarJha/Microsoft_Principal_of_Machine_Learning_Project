{
 "cells": [
  {
   "cell_type": "markdown",
   "metadata": {
    "collapsed": true
   },
   "source": [
    "# Final Exam"
   ]
  },
  {
   "cell_type": "markdown",
   "metadata": {},
   "source": [
    "# Challenge Overview\n",
    "\n",
    "In 1998, the Adventure Works Cycles company collected a large volume of data about their existing customers, including demographic features and information about purchases they have made. The company is particularly interested in analyzing customer data to determine any apparent relationships between demographic features known about the customers and the likelihood of a customer purchasing a bike. Additionally, the analysis should endeavor to determine whether a customer's average monthly spend with the company can be predicted from known customer characteristics.\n",
    "\n",
    "In this project, you must tackle three challenges:\n",
    "\n",
    " + Challenge 1: Explore the data and gain some insights into Adventure Works customer characteristics and purchasing behavior.\n",
    " + Challenge 2: Build a classification model to predict customer purchasing behavior.\n",
    " + Challenge 3: Build a regression model to predict customer purchasing behavior.\n",
    " \n",
    "This data consists of **three** files, containing data that was collected on **January 1st 1998.**\n",
    "\n",
    "**AdvWorksCusts.csv**\n",
    "Customer demographic data consisting of the following fields:\n",
    "\n",
    " + **CustomerID** (integer) : A unique customer identifier.\n",
    " + **Title** (string):The customer's formal title (Mr, Mrs, Ms, Miss Dr, etc.)\n",
    " + **FirstName** (string): The customer's first name.\n",
    " + **MiddleName** (string): The customer's middle name.\n",
    " + **LastName** (string):The customer's last name.\n",
    " + **Suffix** (string):A suffix for the customer name (Jr, Sr, etc.)\n",
    " + **AddressLine1** (string): The first line of the customer's home address.\n",
    " + **AddressLine2** (string):The second line of the customer's home address.\n",
    " + **City** (string):The city where the customer lives.\n",
    " + **StateProvince** (string):The state or province where the customer lives.\n",
    " + **CountryRegion** (string):The country or region where the customer lives.\n",
    " + **PostalCode** (string):The postal code for the customer's address.\n",
    " + **PhoneNumber** (string):The customer's telephone number.\n",
    " + **BirthDate** (date):The customer's date of birth in the format YYYY-MM-DD.\n",
    " + **Education** (string):The maximum level of education achieved by the customer: \n",
    "   + Partial High School\n",
    "   + High School\n",
    "   + Partial College\n",
    "   + Bachelors\n",
    "   + Graduate Degree\n",
    " + **Occupation** (string):The type of job in which the customer is employed:\n",
    "   + Manual\n",
    "   + Skilled Manual\n",
    "   + Clerical\n",
    "   + Management\n",
    "   + Professional\n",
    " + **Gender** (string):The customer's gender (for example, M for male, F for female, etc.)\n",
    " + **MaritalStatus** (string): Whether the customer is married (M) or single (S).\n",
    " + **HomeOwnerFlag**  (integer):A Boolean flag indicating whether the customer owns their own home (1) or not (0).\n",
    " + **NumberCarsOwned** (integer):The number of cars owned by the customer.\n",
    " + **NumberChildrenAtHome** (integer):The number of children the customer has who live at home.\n",
    " + **TotalChildren**  (integer): The total number of children the customer has.\n",
    " + **YearlyIncome** (decimal): The annual income of the customer.\n",
    "\n",
    "**AW_AveMonthSpend.csv**\n",
    "\n",
    "Sales data for existing customers, consisting of the following fields:\n",
    "\n",
    " + **CustomerID** (integer): The unique identifier for the customer.\n",
    " + **AveMonthSpend** (decimal): The amount of money the customer spends with Adventure Works Cycles on average each month.\n",
    "\n",
    "**AW_BikeBuyer.csv**\n",
    "\n",
    "Sales data for existing customers, consisting of the following fields:\n",
    "\n",
    " + **CustomerID** (integer): The unique identifier for the customer.\n",
    " + **BikeBuyer** (integer): A Boolean flag indicating whether a customer has previously purchased a bike (1) or not (0)."
   ]
  },
  {
   "cell_type": "markdown",
   "metadata": {},
   "source": [
    "# Getting Started"
   ]
  },
  {
   "cell_type": "markdown",
   "metadata": {},
   "source": [
    "## Importing the libraries"
   ]
  },
  {
   "cell_type": "code",
   "execution_count": 1,
   "metadata": {},
   "outputs": [],
   "source": [
    "# Importing the libraries\n",
    "import numpy as np\n",
    "import matplotlib.pyplot as plt\n",
    "import pandas as pd\n",
    "import seaborn as sns\n",
    "import matplotlib.pyplot as plt\n",
    "%matplotlib inline\n",
    "\n",
    "pd.set_option('display.max_rows', 100)\n",
    "pd.set_option('display.max_columns', 100)"
   ]
  },
  {
   "cell_type": "code",
   "execution_count": 2,
   "metadata": {},
   "outputs": [],
   "source": [
    "import os\n",
    "os.chdir(\"E:/Data Science/Microsoft certification/Principal of Machine Learning/Project/Input\")"
   ]
  },
  {
   "cell_type": "markdown",
   "metadata": {},
   "source": [
    "## Extracting training data from zip"
   ]
  },
  {
   "cell_type": "code",
   "execution_count": 3,
   "metadata": {},
   "outputs": [
    {
     "name": "stdout",
     "output_type": "stream",
     "text": [
      "File Name                                             Modified             Size\n",
      "AdvWorksCusts.csv                              2018-04-18 15:27:52      2545537\n",
      "AW_BikeBuyer.csv                               2018-04-18 15:28:02       148693\n",
      "AW_AveMonthSpend.csv                           2018-04-18 15:27:58       167346\n",
      "Extracting all the files now...\n",
      "Done!\n"
     ]
    }
   ],
   "source": [
    "# importing required modules \n",
    "from zipfile import ZipFile \n",
    "  \n",
    "# specifying the zip file name \n",
    "file_name = \"FinalExam.zip\"\n",
    "  \n",
    "# opening the zip file in READ mode \n",
    "with ZipFile(file_name, 'r') as zipfile: \n",
    "    # printing all the contents of the zip file \n",
    "    zipfile.printdir() \n",
    "  \n",
    "    # extracting all the files \n",
    "    print('Extracting all the files now...') \n",
    "    zipfile.extractall() \n",
    "    print('Done!')"
   ]
  },
  {
   "cell_type": "markdown",
   "metadata": {},
   "source": [
    "## Reading the file"
   ]
  },
  {
   "cell_type": "code",
   "execution_count": 4,
   "metadata": {},
   "outputs": [],
   "source": [
    "# Reading the file\n",
    "AdvWorksCusts = pd.read_csv(\"AdvWorksCusts.csv\")\n",
    "AW_BikeBuyer = pd.read_csv(\"AW_BikeBuyer.csv\")\n",
    "AW_AveMonthSpend = pd.read_csv(\"AW_AveMonthSpend.csv\")"
   ]
  },
  {
   "cell_type": "markdown",
   "metadata": {},
   "source": [
    "# Challenge 1 : EDA"
   ]
  },
  {
   "cell_type": "markdown",
   "metadata": {},
   "source": [
    "## Checking duplicate records"
   ]
  },
  {
   "cell_type": "code",
   "execution_count": 5,
   "metadata": {},
   "outputs": [
    {
     "name": "stdout",
     "output_type": "stream",
     "text": [
      "Duplicate unique id in AdvWorksCusts: 115\n",
      "Duplicate unique id in AW_BikeBuyer: 115\n",
      "Duplicate unique id in AW_AveMonthSpend: 115\n"
     ]
    }
   ],
   "source": [
    "# Duplicate records\n",
    "print(\"Duplicate unique id in AdvWorksCusts:\", len(AdvWorksCusts.CustomerID) - len(AdvWorksCusts.CustomerID.unique()))\n",
    "print(\"Duplicate unique id in AW_BikeBuyer:\", len(AW_BikeBuyer.CustomerID) - len(AW_BikeBuyer.CustomerID.unique()))\n",
    "print(\"Duplicate unique id in AW_AveMonthSpend:\", len(AW_AveMonthSpend.CustomerID) - len(AW_AveMonthSpend.CustomerID.unique()))"
   ]
  },
  {
   "cell_type": "markdown",
   "metadata": {},
   "source": [
    "## Removing duplicates rows"
   ]
  },
  {
   "cell_type": "code",
   "execution_count": 6,
   "metadata": {},
   "outputs": [
    {
     "name": "stdout",
     "output_type": "stream",
     "text": [
      "Duplicate unique id in AdvWorksCusts: 0\n",
      "Duplicate unique id in AW_BikeBuyer: 0\n",
      "Duplicate unique id in AW_AveMonthSpend: 0\n",
      "Duplicate records removed.\n"
     ]
    }
   ],
   "source": [
    "# Removing duplicates rows\n",
    "AdvWorksCusts = AdvWorksCusts.sort_values('CustomerID').drop_duplicates('CustomerID',keep='last')\n",
    "AW_BikeBuyer = AW_BikeBuyer.sort_values('CustomerID').drop_duplicates('CustomerID',keep='last')\n",
    "AW_AveMonthSpend = AW_AveMonthSpend.sort_values('CustomerID').drop_duplicates('CustomerID',keep='last')\n",
    "\n",
    "# Duplicate records\n",
    "print(\"Duplicate unique id in AdvWorksCusts:\", len(AdvWorksCusts.CustomerID) - len(AdvWorksCusts.CustomerID.unique()))\n",
    "print(\"Duplicate unique id in AW_BikeBuyer:\", len(AW_BikeBuyer.CustomerID) - len(AW_BikeBuyer.CustomerID.unique()))\n",
    "print(\"Duplicate unique id in AW_AveMonthSpend:\", len(AW_AveMonthSpend.CustomerID) - len(AW_AveMonthSpend.CustomerID.unique()))\n",
    "\n",
    "print(\"Duplicate records removed.\")"
   ]
  },
  {
   "cell_type": "markdown",
   "metadata": {},
   "source": [
    "## Average Monthly Spend"
   ]
  },
  {
   "cell_type": "markdown",
   "metadata": {},
   "source": [
    "### Top 5 rows"
   ]
  },
  {
   "cell_type": "code",
   "execution_count": 7,
   "metadata": {},
   "outputs": [
    {
     "data": {
      "text/html": [
       "<div>\n",
       "<style scoped>\n",
       "    .dataframe tbody tr th:only-of-type {\n",
       "        vertical-align: middle;\n",
       "    }\n",
       "\n",
       "    .dataframe tbody tr th {\n",
       "        vertical-align: top;\n",
       "    }\n",
       "\n",
       "    .dataframe thead th {\n",
       "        text-align: right;\n",
       "    }\n",
       "</style>\n",
       "<table border=\"1\" class=\"dataframe\">\n",
       "  <thead>\n",
       "    <tr style=\"text-align: right;\">\n",
       "      <th></th>\n",
       "      <th>CustomerID</th>\n",
       "      <th>AveMonthSpend</th>\n",
       "    </tr>\n",
       "  </thead>\n",
       "  <tbody>\n",
       "    <tr>\n",
       "      <th>0</th>\n",
       "      <td>11000</td>\n",
       "      <td>89</td>\n",
       "    </tr>\n",
       "    <tr>\n",
       "      <th>1</th>\n",
       "      <td>11001</td>\n",
       "      <td>117</td>\n",
       "    </tr>\n",
       "    <tr>\n",
       "      <th>2</th>\n",
       "      <td>11002</td>\n",
       "      <td>123</td>\n",
       "    </tr>\n",
       "    <tr>\n",
       "      <th>3</th>\n",
       "      <td>11003</td>\n",
       "      <td>50</td>\n",
       "    </tr>\n",
       "    <tr>\n",
       "      <th>4</th>\n",
       "      <td>11004</td>\n",
       "      <td>95</td>\n",
       "    </tr>\n",
       "  </tbody>\n",
       "</table>\n",
       "</div>"
      ],
      "text/plain": [
       "   CustomerID  AveMonthSpend\n",
       "0       11000             89\n",
       "1       11001            117\n",
       "2       11002            123\n",
       "3       11003             50\n",
       "4       11004             95"
      ]
     },
     "execution_count": 7,
     "metadata": {},
     "output_type": "execute_result"
    }
   ],
   "source": [
    "AW_AveMonthSpend.head()"
   ]
  },
  {
   "cell_type": "markdown",
   "metadata": {},
   "source": [
    "### Variable type"
   ]
  },
  {
   "cell_type": "code",
   "execution_count": 8,
   "metadata": {},
   "outputs": [
    {
     "name": "stdout",
     "output_type": "stream",
     "text": [
      "<class 'pandas.core.frame.DataFrame'>\n",
      "Int64Index: 16404 entries, 0 to 16507\n",
      "Data columns (total 2 columns):\n",
      "CustomerID       16404 non-null int64\n",
      "AveMonthSpend    16404 non-null int64\n",
      "dtypes: int64(2)\n",
      "memory usage: 384.5 KB\n"
     ]
    }
   ],
   "source": [
    "AW_AveMonthSpend.info()"
   ]
  },
  {
   "cell_type": "markdown",
   "metadata": {},
   "source": [
    "### No of records"
   ]
  },
  {
   "cell_type": "code",
   "execution_count": 9,
   "metadata": {},
   "outputs": [
    {
     "name": "stdout",
     "output_type": "stream",
     "text": [
      "No of rows and columns in dataset: (16404, 2)\n"
     ]
    }
   ],
   "source": [
    "print(\"No of rows and columns in dataset:\", AW_AveMonthSpend.shape)"
   ]
  },
  {
   "cell_type": "markdown",
   "metadata": {},
   "source": [
    "### Descriptive Statistics\n",
    "\n",
    "*****\n",
    "**Q1** : Minimum AveMonthSpend\n",
    "<br>\n",
    "**Q2** : Maximum AveMonthSpend\n",
    "<br>\n",
    "**Q3** : Mean AveMonthSpend\n",
    "<br>\n",
    "**Q4** : Median AveMonthSpend\n",
    "<br>\n",
    "**Q5** : Standard deviation AveMonthSpend\n",
    "*****"
   ]
  },
  {
   "cell_type": "code",
   "execution_count": 10,
   "metadata": {},
   "outputs": [
    {
     "data": {
      "text/plain": [
       "count    16404.000000\n",
       "mean        72.391246\n",
       "std         27.269227\n",
       "min         22.000000\n",
       "25%         52.000000\n",
       "50%         68.000000\n",
       "75%         84.000000\n",
       "max        176.000000\n",
       "Name: AveMonthSpend, dtype: float64"
      ]
     },
     "execution_count": 10,
     "metadata": {},
     "output_type": "execute_result"
    }
   ],
   "source": [
    "AW_AveMonthSpend['AveMonthSpend'].describe()"
   ]
  },
  {
   "cell_type": "markdown",
   "metadata": {},
   "source": [
    "## Bike Buyer"
   ]
  },
  {
   "cell_type": "markdown",
   "metadata": {},
   "source": [
    "### No of records"
   ]
  },
  {
   "cell_type": "code",
   "execution_count": 11,
   "metadata": {},
   "outputs": [
    {
     "name": "stdout",
     "output_type": "stream",
     "text": [
      "No of rows and columns in dataset: (16404, 2)\n"
     ]
    }
   ],
   "source": [
    "print(\"No of rows and columns in dataset:\", AW_BikeBuyer.shape)"
   ]
  },
  {
   "cell_type": "markdown",
   "metadata": {},
   "source": [
    "### Variable type"
   ]
  },
  {
   "cell_type": "code",
   "execution_count": 12,
   "metadata": {},
   "outputs": [
    {
     "name": "stdout",
     "output_type": "stream",
     "text": [
      "<class 'pandas.core.frame.DataFrame'>\n",
      "Int64Index: 16404 entries, 0 to 16507\n",
      "Data columns (total 2 columns):\n",
      "CustomerID    16404 non-null int64\n",
      "BikeBuyer     16404 non-null int64\n",
      "dtypes: int64(2)\n",
      "memory usage: 384.5 KB\n"
     ]
    }
   ],
   "source": [
    "AW_BikeBuyer.info()"
   ]
  },
  {
   "cell_type": "markdown",
   "metadata": {},
   "source": [
    "### Top 5 rows"
   ]
  },
  {
   "cell_type": "code",
   "execution_count": 13,
   "metadata": {},
   "outputs": [
    {
     "data": {
      "text/html": [
       "<div>\n",
       "<style scoped>\n",
       "    .dataframe tbody tr th:only-of-type {\n",
       "        vertical-align: middle;\n",
       "    }\n",
       "\n",
       "    .dataframe tbody tr th {\n",
       "        vertical-align: top;\n",
       "    }\n",
       "\n",
       "    .dataframe thead th {\n",
       "        text-align: right;\n",
       "    }\n",
       "</style>\n",
       "<table border=\"1\" class=\"dataframe\">\n",
       "  <thead>\n",
       "    <tr style=\"text-align: right;\">\n",
       "      <th></th>\n",
       "      <th>CustomerID</th>\n",
       "      <th>BikeBuyer</th>\n",
       "    </tr>\n",
       "  </thead>\n",
       "  <tbody>\n",
       "    <tr>\n",
       "      <th>0</th>\n",
       "      <td>11000</td>\n",
       "      <td>0</td>\n",
       "    </tr>\n",
       "    <tr>\n",
       "      <th>1</th>\n",
       "      <td>11001</td>\n",
       "      <td>1</td>\n",
       "    </tr>\n",
       "    <tr>\n",
       "      <th>2</th>\n",
       "      <td>11002</td>\n",
       "      <td>0</td>\n",
       "    </tr>\n",
       "    <tr>\n",
       "      <th>3</th>\n",
       "      <td>11003</td>\n",
       "      <td>0</td>\n",
       "    </tr>\n",
       "    <tr>\n",
       "      <th>4</th>\n",
       "      <td>11004</td>\n",
       "      <td>1</td>\n",
       "    </tr>\n",
       "  </tbody>\n",
       "</table>\n",
       "</div>"
      ],
      "text/plain": [
       "   CustomerID  BikeBuyer\n",
       "0       11000          0\n",
       "1       11001          1\n",
       "2       11002          0\n",
       "3       11003          0\n",
       "4       11004          1"
      ]
     },
     "execution_count": 13,
     "metadata": {},
     "output_type": "execute_result"
    }
   ],
   "source": [
    "AW_BikeBuyer.head()"
   ]
  },
  {
   "cell_type": "markdown",
   "metadata": {},
   "source": [
    "### Frequency summary\n",
    "\n",
    "*****\n",
    "**Q6** : distribution of the values in the BikeBuyer\n",
    "\n",
    "*****"
   ]
  },
  {
   "cell_type": "code",
   "execution_count": 14,
   "metadata": {},
   "outputs": [
    {
     "data": {
      "text/plain": [
       "0    0.667581\n",
       "1    0.332419\n",
       "Name: BikeBuyer, dtype: float64"
      ]
     },
     "execution_count": 14,
     "metadata": {},
     "output_type": "execute_result"
    }
   ],
   "source": [
    "AW_BikeBuyer['BikeBuyer'].value_counts(normalize = True)"
   ]
  },
  {
   "cell_type": "code",
   "execution_count": 15,
   "metadata": {},
   "outputs": [
    {
     "data": {
      "image/png": "[encoded data removed]",
      "text/plain": [
       "<Figure size 504x360 with 1 Axes>"
      ]
     },
     "metadata": {
      "needs_background": "light"
     },
     "output_type": "display_data"
    }
   ],
   "source": [
    "plt.figure(figsize=(7,5))\n",
    "sns.countplot(x = 'BikeBuyer', data = AW_BikeBuyer);"
   ]
  },
  {
   "cell_type": "markdown",
   "metadata": {},
   "source": [
    "## AdvWorksCusts"
   ]
  },
  {
   "cell_type": "markdown",
   "metadata": {},
   "source": [
    "### No of records"
   ]
  },
  {
   "cell_type": "code",
   "execution_count": 16,
   "metadata": {},
   "outputs": [
    {
     "name": "stdout",
     "output_type": "stream",
     "text": [
      "No of rows and columns in dataset: (16404, 23)\n"
     ]
    }
   ],
   "source": [
    "print(\"No of rows and columns in dataset:\", AdvWorksCusts.shape)"
   ]
  },
  {
   "cell_type": "markdown",
   "metadata": {},
   "source": [
    "### Variable type"
   ]
  },
  {
   "cell_type": "code",
   "execution_count": 17,
   "metadata": {},
   "outputs": [
    {
     "name": "stdout",
     "output_type": "stream",
     "text": [
      "<class 'pandas.core.frame.DataFrame'>\n",
      "Int64Index: 16404 entries, 0 to 16507\n",
      "Data columns (total 23 columns):\n",
      "CustomerID              16404 non-null int64\n",
      "Title                   88 non-null object\n",
      "FirstName               16404 non-null object\n",
      "MiddleName              9453 non-null object\n",
      "LastName                16404 non-null object\n",
      "Suffix                  2 non-null object\n",
      "AddressLine1            16404 non-null object\n",
      "AddressLine2            272 non-null object\n",
      "City                    16404 non-null object\n",
      "StateProvinceName       16404 non-null object\n",
      "CountryRegionName       16404 non-null object\n",
      "PostalCode              16404 non-null object\n",
      "PhoneNumber             16404 non-null object\n",
      "BirthDate               16404 non-null object\n",
      "Education               16404 non-null object\n",
      "Occupation              16404 non-null object\n",
      "Gender                  16404 non-null object\n",
      "MaritalStatus           16404 non-null object\n",
      "HomeOwnerFlag           16404 non-null int64\n",
      "NumberCarsOwned         16404 non-null int64\n",
      "NumberChildrenAtHome    16404 non-null int64\n",
      "TotalChildren           16404 non-null int64\n",
      "YearlyIncome            16404 non-null int64\n",
      "dtypes: int64(6), object(17)\n",
      "memory usage: 3.0+ MB\n"
     ]
    }
   ],
   "source": [
    "AdvWorksCusts.info()"
   ]
  },
  {
   "cell_type": "markdown",
   "metadata": {},
   "source": [
    "### Top 5 rows"
   ]
  },
  {
   "cell_type": "code",
   "execution_count": 18,
   "metadata": {},
   "outputs": [
    {
     "data": {
      "text/html": [
       "<div>\n",
       "<style scoped>\n",
       "    .dataframe tbody tr th:only-of-type {\n",
       "        vertical-align: middle;\n",
       "    }\n",
       "\n",
       "    .dataframe tbody tr th {\n",
       "        vertical-align: top;\n",
       "    }\n",
       "\n",
       "    .dataframe thead th {\n",
       "        text-align: right;\n",
       "    }\n",
       "</style>\n",
       "<table border=\"1\" class=\"dataframe\">\n",
       "  <thead>\n",
       "    <tr style=\"text-align: right;\">\n",
       "      <th></th>\n",
       "      <th>CustomerID</th>\n",
       "      <th>Title</th>\n",
       "      <th>FirstName</th>\n",
       "      <th>MiddleName</th>\n",
       "      <th>LastName</th>\n",
       "      <th>Suffix</th>\n",
       "      <th>AddressLine1</th>\n",
       "      <th>AddressLine2</th>\n",
       "      <th>City</th>\n",
       "      <th>StateProvinceName</th>\n",
       "      <th>CountryRegionName</th>\n",
       "      <th>PostalCode</th>\n",
       "      <th>PhoneNumber</th>\n",
       "      <th>BirthDate</th>\n",
       "      <th>Education</th>\n",
       "      <th>Occupation</th>\n",
       "      <th>Gender</th>\n",
       "      <th>MaritalStatus</th>\n",
       "      <th>HomeOwnerFlag</th>\n",
       "      <th>NumberCarsOwned</th>\n",
       "      <th>NumberChildrenAtHome</th>\n",
       "      <th>TotalChildren</th>\n",
       "      <th>YearlyIncome</th>\n",
       "    </tr>\n",
       "  </thead>\n",
       "  <tbody>\n",
       "    <tr>\n",
       "      <th>0</th>\n",
       "      <td>11000</td>\n",
       "      <td>NaN</td>\n",
       "      <td>Jon</td>\n",
       "      <td>V</td>\n",
       "      <td>Yang</td>\n",
       "      <td>NaN</td>\n",
       "      <td>3761 N. 14th St</td>\n",
       "      <td>NaN</td>\n",
       "      <td>Rockhampton</td>\n",
       "      <td>Queensland</td>\n",
       "      <td>Australia</td>\n",
       "      <td>4700</td>\n",
       "      <td>1 (11) 500 555-0162</td>\n",
       "      <td>1966-04-08</td>\n",
       "      <td>Bachelors</td>\n",
       "      <td>Professional</td>\n",
       "      <td>M</td>\n",
       "      <td>M</td>\n",
       "      <td>1</td>\n",
       "      <td>0</td>\n",
       "      <td>0</td>\n",
       "      <td>2</td>\n",
       "      <td>137947</td>\n",
       "    </tr>\n",
       "    <tr>\n",
       "      <th>1</th>\n",
       "      <td>11001</td>\n",
       "      <td>NaN</td>\n",
       "      <td>Eugene</td>\n",
       "      <td>L</td>\n",
       "      <td>Huang</td>\n",
       "      <td>NaN</td>\n",
       "      <td>2243 W St.</td>\n",
       "      <td>NaN</td>\n",
       "      <td>Seaford</td>\n",
       "      <td>Victoria</td>\n",
       "      <td>Australia</td>\n",
       "      <td>3198</td>\n",
       "      <td>1 (11) 500 555-0110</td>\n",
       "      <td>1965-05-14</td>\n",
       "      <td>Bachelors</td>\n",
       "      <td>Professional</td>\n",
       "      <td>M</td>\n",
       "      <td>S</td>\n",
       "      <td>0</td>\n",
       "      <td>1</td>\n",
       "      <td>3</td>\n",
       "      <td>3</td>\n",
       "      <td>101141</td>\n",
       "    </tr>\n",
       "    <tr>\n",
       "      <th>2</th>\n",
       "      <td>11002</td>\n",
       "      <td>NaN</td>\n",
       "      <td>Ruben</td>\n",
       "      <td>NaN</td>\n",
       "      <td>Torres</td>\n",
       "      <td>NaN</td>\n",
       "      <td>5844 Linden Land</td>\n",
       "      <td>NaN</td>\n",
       "      <td>Hobart</td>\n",
       "      <td>Tasmania</td>\n",
       "      <td>Australia</td>\n",
       "      <td>7001</td>\n",
       "      <td>1 (11) 500 555-0184</td>\n",
       "      <td>1965-08-12</td>\n",
       "      <td>Bachelors</td>\n",
       "      <td>Professional</td>\n",
       "      <td>M</td>\n",
       "      <td>M</td>\n",
       "      <td>1</td>\n",
       "      <td>1</td>\n",
       "      <td>3</td>\n",
       "      <td>3</td>\n",
       "      <td>91945</td>\n",
       "    </tr>\n",
       "    <tr>\n",
       "      <th>3</th>\n",
       "      <td>11003</td>\n",
       "      <td>NaN</td>\n",
       "      <td>Christy</td>\n",
       "      <td>NaN</td>\n",
       "      <td>Zhu</td>\n",
       "      <td>NaN</td>\n",
       "      <td>1825 Village Pl.</td>\n",
       "      <td>NaN</td>\n",
       "      <td>North Ryde</td>\n",
       "      <td>New South Wales</td>\n",
       "      <td>Australia</td>\n",
       "      <td>2113</td>\n",
       "      <td>1 (11) 500 555-0162</td>\n",
       "      <td>1968-02-15</td>\n",
       "      <td>Bachelors</td>\n",
       "      <td>Professional</td>\n",
       "      <td>F</td>\n",
       "      <td>S</td>\n",
       "      <td>0</td>\n",
       "      <td>1</td>\n",
       "      <td>0</td>\n",
       "      <td>0</td>\n",
       "      <td>86688</td>\n",
       "    </tr>\n",
       "    <tr>\n",
       "      <th>4</th>\n",
       "      <td>11004</td>\n",
       "      <td>NaN</td>\n",
       "      <td>Elizabeth</td>\n",
       "      <td>NaN</td>\n",
       "      <td>Johnson</td>\n",
       "      <td>NaN</td>\n",
       "      <td>7553 Harness Circle</td>\n",
       "      <td>NaN</td>\n",
       "      <td>Wollongong</td>\n",
       "      <td>New South Wales</td>\n",
       "      <td>Australia</td>\n",
       "      <td>2500</td>\n",
       "      <td>1 (11) 500 555-0131</td>\n",
       "      <td>1968-08-08</td>\n",
       "      <td>Bachelors</td>\n",
       "      <td>Professional</td>\n",
       "      <td>F</td>\n",
       "      <td>S</td>\n",
       "      <td>1</td>\n",
       "      <td>4</td>\n",
       "      <td>5</td>\n",
       "      <td>5</td>\n",
       "      <td>92771</td>\n",
       "    </tr>\n",
       "  </tbody>\n",
       "</table>\n",
       "</div>"
      ],
      "text/plain": [
       "   CustomerID Title  FirstName MiddleName LastName Suffix  \\\n",
       "0       11000   NaN        Jon          V     Yang    NaN   \n",
       "1       11001   NaN     Eugene          L    Huang    NaN   \n",
       "2       11002   NaN      Ruben        NaN   Torres    NaN   \n",
       "3       11003   NaN    Christy        NaN      Zhu    NaN   \n",
       "4       11004   NaN  Elizabeth        NaN  Johnson    NaN   \n",
       "\n",
       "          AddressLine1 AddressLine2         City StateProvinceName  \\\n",
       "0      3761 N. 14th St          NaN  Rockhampton        Queensland   \n",
       "1           2243 W St.          NaN      Seaford          Victoria   \n",
       "2     5844 Linden Land          NaN       Hobart          Tasmania   \n",
       "3     1825 Village Pl.          NaN   North Ryde   New South Wales   \n",
       "4  7553 Harness Circle          NaN   Wollongong   New South Wales   \n",
       "\n",
       "  CountryRegionName PostalCode          PhoneNumber   BirthDate   Education  \\\n",
       "0         Australia       4700  1 (11) 500 555-0162  1966-04-08  Bachelors    \n",
       "1         Australia       3198  1 (11) 500 555-0110  1965-05-14  Bachelors    \n",
       "2         Australia       7001  1 (11) 500 555-0184  1965-08-12  Bachelors    \n",
       "3         Australia       2113  1 (11) 500 555-0162  1968-02-15  Bachelors    \n",
       "4         Australia       2500  1 (11) 500 555-0131  1968-08-08  Bachelors    \n",
       "\n",
       "     Occupation Gender MaritalStatus  HomeOwnerFlag  NumberCarsOwned  \\\n",
       "0  Professional      M             M              1                0   \n",
       "1  Professional      M             S              0                1   \n",
       "2  Professional      M             M              1                1   \n",
       "3  Professional      F             S              0                1   \n",
       "4  Professional      F             S              1                4   \n",
       "\n",
       "   NumberChildrenAtHome  TotalChildren  YearlyIncome  \n",
       "0                     0              2        137947  \n",
       "1                     3              3        101141  \n",
       "2                     3              3         91945  \n",
       "3                     0              0         86688  \n",
       "4                     5              5         92771  "
      ]
     },
     "execution_count": 18,
     "metadata": {},
     "output_type": "execute_result"
    }
   ],
   "source": [
    "AdvWorksCusts.head()"
   ]
  },
  {
   "cell_type": "markdown",
   "metadata": {},
   "source": [
    "### Descriptive Statistics"
   ]
  },
  {
   "cell_type": "code",
   "execution_count": 19,
   "metadata": {},
   "outputs": [
    {
     "data": {
      "text/html": [
       "<div>\n",
       "<style scoped>\n",
       "    .dataframe tbody tr th:only-of-type {\n",
       "        vertical-align: middle;\n",
       "    }\n",
       "\n",
       "    .dataframe tbody tr th {\n",
       "        vertical-align: top;\n",
       "    }\n",
       "\n",
       "    .dataframe thead th {\n",
       "        text-align: right;\n",
       "    }\n",
       "</style>\n",
       "<table border=\"1\" class=\"dataframe\">\n",
       "  <thead>\n",
       "    <tr style=\"text-align: right;\">\n",
       "      <th></th>\n",
       "      <th>CustomerID</th>\n",
       "      <th>HomeOwnerFlag</th>\n",
       "      <th>NumberCarsOwned</th>\n",
       "      <th>NumberChildrenAtHome</th>\n",
       "      <th>TotalChildren</th>\n",
       "      <th>YearlyIncome</th>\n",
       "    </tr>\n",
       "  </thead>\n",
       "  <tbody>\n",
       "    <tr>\n",
       "      <th>count</th>\n",
       "      <td>16404.000000</td>\n",
       "      <td>16404.000000</td>\n",
       "      <td>16404.000000</td>\n",
       "      <td>16404.000000</td>\n",
       "      <td>16404.000000</td>\n",
       "      <td>16404.000000</td>\n",
       "    </tr>\n",
       "    <tr>\n",
       "      <th>mean</th>\n",
       "      <td>20240.143136</td>\n",
       "      <td>0.674104</td>\n",
       "      <td>1.499756</td>\n",
       "      <td>0.991100</td>\n",
       "      <td>2.004511</td>\n",
       "      <td>78129.811205</td>\n",
       "    </tr>\n",
       "    <tr>\n",
       "      <th>std</th>\n",
       "      <td>5340.370705</td>\n",
       "      <td>0.468723</td>\n",
       "      <td>1.139135</td>\n",
       "      <td>1.514278</td>\n",
       "      <td>1.682318</td>\n",
       "      <td>39726.554883</td>\n",
       "    </tr>\n",
       "    <tr>\n",
       "      <th>min</th>\n",
       "      <td>11000.000000</td>\n",
       "      <td>0.000000</td>\n",
       "      <td>0.000000</td>\n",
       "      <td>0.000000</td>\n",
       "      <td>0.000000</td>\n",
       "      <td>9482.000000</td>\n",
       "    </tr>\n",
       "    <tr>\n",
       "      <th>25%</th>\n",
       "      <td>15617.750000</td>\n",
       "      <td>0.000000</td>\n",
       "      <td>1.000000</td>\n",
       "      <td>0.000000</td>\n",
       "      <td>0.000000</td>\n",
       "      <td>47811.750000</td>\n",
       "    </tr>\n",
       "    <tr>\n",
       "      <th>50%</th>\n",
       "      <td>20231.500000</td>\n",
       "      <td>1.000000</td>\n",
       "      <td>2.000000</td>\n",
       "      <td>0.000000</td>\n",
       "      <td>2.000000</td>\n",
       "      <td>76125.000000</td>\n",
       "    </tr>\n",
       "    <tr>\n",
       "      <th>75%</th>\n",
       "      <td>24862.250000</td>\n",
       "      <td>1.000000</td>\n",
       "      <td>2.000000</td>\n",
       "      <td>2.000000</td>\n",
       "      <td>3.000000</td>\n",
       "      <td>105200.250000</td>\n",
       "    </tr>\n",
       "    <tr>\n",
       "      <th>max</th>\n",
       "      <td>29482.000000</td>\n",
       "      <td>1.000000</td>\n",
       "      <td>4.000000</td>\n",
       "      <td>5.000000</td>\n",
       "      <td>5.000000</td>\n",
       "      <td>196511.000000</td>\n",
       "    </tr>\n",
       "  </tbody>\n",
       "</table>\n",
       "</div>"
      ],
      "text/plain": [
       "         CustomerID  HomeOwnerFlag  NumberCarsOwned  NumberChildrenAtHome  \\\n",
       "count  16404.000000   16404.000000     16404.000000          16404.000000   \n",
       "mean   20240.143136       0.674104         1.499756              0.991100   \n",
       "std     5340.370705       0.468723         1.139135              1.514278   \n",
       "min    11000.000000       0.000000         0.000000              0.000000   \n",
       "25%    15617.750000       0.000000         1.000000              0.000000   \n",
       "50%    20231.500000       1.000000         2.000000              0.000000   \n",
       "75%    24862.250000       1.000000         2.000000              2.000000   \n",
       "max    29482.000000       1.000000         4.000000              5.000000   \n",
       "\n",
       "       TotalChildren   YearlyIncome  \n",
       "count   16404.000000   16404.000000  \n",
       "mean        2.004511   78129.811205  \n",
       "std         1.682318   39726.554883  \n",
       "min         0.000000    9482.000000  \n",
       "25%         0.000000   47811.750000  \n",
       "50%         2.000000   76125.000000  \n",
       "75%         3.000000  105200.250000  \n",
       "max         5.000000  196511.000000  "
      ]
     },
     "execution_count": 19,
     "metadata": {},
     "output_type": "execute_result"
    }
   ],
   "source": [
    "AdvWorksCusts.describe()"
   ]
  },
  {
   "cell_type": "markdown",
   "metadata": {},
   "source": [
    "*****\n",
    "**Q7** : correct order (from lowest to highest) that ranks the median YearlyIncome by Occupation\n",
    "*****"
   ]
  },
  {
   "cell_type": "code",
   "execution_count": 20,
   "metadata": {},
   "outputs": [
    {
     "data": {
      "text/plain": [
       "Occupation\n",
       "Clerical           49481.0\n",
       "Management        118781.0\n",
       "Manual             21722.0\n",
       "Professional       99051.5\n",
       "Skilled Manual     66471.5\n",
       "Name: YearlyIncome, dtype: float64"
      ]
     },
     "execution_count": 20,
     "metadata": {},
     "output_type": "execute_result"
    }
   ],
   "source": [
    "AdvWorksCusts.groupby(['Occupation'])['YearlyIncome'].median()"
   ]
  },
  {
   "cell_type": "markdown",
   "metadata": {},
   "source": [
    "### Merging datasets"
   ]
  },
  {
   "cell_type": "code",
   "execution_count": 21,
   "metadata": {},
   "outputs": [
    {
     "name": "stdout",
     "output_type": "stream",
     "text": [
      "No of rows and columns in dataset: (16404, 25)\n"
     ]
    }
   ],
   "source": [
    "dataset = pd.merge(AdvWorksCusts,AW_BikeBuyer,on = 'CustomerID', how = 'left')\n",
    "dataset = pd.merge(dataset,AW_AveMonthSpend,on = 'CustomerID', how = 'left')\n",
    "\n",
    "print(\"No of rows and columns in dataset:\", dataset.shape)"
   ]
  },
  {
   "cell_type": "code",
   "execution_count": 22,
   "metadata": {},
   "outputs": [],
   "source": [
    "# convert the 'BirthDate' column to datetime format \n",
    "dataset['BirthDate']= pd.to_datetime(dataset['BirthDate']) "
   ]
  },
  {
   "cell_type": "code",
   "execution_count": 23,
   "metadata": {},
   "outputs": [
    {
     "data": {
      "text/html": [
       "<div>\n",
       "<style scoped>\n",
       "    .dataframe tbody tr th:only-of-type {\n",
       "        vertical-align: middle;\n",
       "    }\n",
       "\n",
       "    .dataframe tbody tr th {\n",
       "        vertical-align: top;\n",
       "    }\n",
       "\n",
       "    .dataframe thead th {\n",
       "        text-align: right;\n",
       "    }\n",
       "</style>\n",
       "<table border=\"1\" class=\"dataframe\">\n",
       "  <thead>\n",
       "    <tr style=\"text-align: right;\">\n",
       "      <th></th>\n",
       "      <th>CustomerID</th>\n",
       "      <th>Title</th>\n",
       "      <th>FirstName</th>\n",
       "      <th>MiddleName</th>\n",
       "      <th>LastName</th>\n",
       "      <th>Suffix</th>\n",
       "      <th>AddressLine1</th>\n",
       "      <th>AddressLine2</th>\n",
       "      <th>City</th>\n",
       "      <th>StateProvinceName</th>\n",
       "      <th>CountryRegionName</th>\n",
       "      <th>PostalCode</th>\n",
       "      <th>PhoneNumber</th>\n",
       "      <th>BirthDate</th>\n",
       "      <th>Education</th>\n",
       "      <th>Occupation</th>\n",
       "      <th>Gender</th>\n",
       "      <th>MaritalStatus</th>\n",
       "      <th>HomeOwnerFlag</th>\n",
       "      <th>NumberCarsOwned</th>\n",
       "      <th>NumberChildrenAtHome</th>\n",
       "      <th>TotalChildren</th>\n",
       "      <th>YearlyIncome</th>\n",
       "      <th>BikeBuyer</th>\n",
       "      <th>AveMonthSpend</th>\n",
       "      <th>Age</th>\n",
       "    </tr>\n",
       "  </thead>\n",
       "  <tbody>\n",
       "    <tr>\n",
       "      <th>0</th>\n",
       "      <td>11000</td>\n",
       "      <td>NaN</td>\n",
       "      <td>Jon</td>\n",
       "      <td>V</td>\n",
       "      <td>Yang</td>\n",
       "      <td>NaN</td>\n",
       "      <td>3761 N. 14th St</td>\n",
       "      <td>NaN</td>\n",
       "      <td>Rockhampton</td>\n",
       "      <td>Queensland</td>\n",
       "      <td>Australia</td>\n",
       "      <td>4700</td>\n",
       "      <td>1 (11) 500 555-0162</td>\n",
       "      <td>1966-04-08</td>\n",
       "      <td>Bachelors</td>\n",
       "      <td>Professional</td>\n",
       "      <td>M</td>\n",
       "      <td>M</td>\n",
       "      <td>1</td>\n",
       "      <td>0</td>\n",
       "      <td>0</td>\n",
       "      <td>2</td>\n",
       "      <td>137947</td>\n",
       "      <td>0</td>\n",
       "      <td>89</td>\n",
       "      <td>31.734428</td>\n",
       "    </tr>\n",
       "    <tr>\n",
       "      <th>1</th>\n",
       "      <td>11001</td>\n",
       "      <td>NaN</td>\n",
       "      <td>Eugene</td>\n",
       "      <td>L</td>\n",
       "      <td>Huang</td>\n",
       "      <td>NaN</td>\n",
       "      <td>2243 W St.</td>\n",
       "      <td>NaN</td>\n",
       "      <td>Seaford</td>\n",
       "      <td>Victoria</td>\n",
       "      <td>Australia</td>\n",
       "      <td>3198</td>\n",
       "      <td>1 (11) 500 555-0110</td>\n",
       "      <td>1965-05-14</td>\n",
       "      <td>Bachelors</td>\n",
       "      <td>Professional</td>\n",
       "      <td>M</td>\n",
       "      <td>S</td>\n",
       "      <td>0</td>\n",
       "      <td>1</td>\n",
       "      <td>3</td>\n",
       "      <td>3</td>\n",
       "      <td>101141</td>\n",
       "      <td>1</td>\n",
       "      <td>117</td>\n",
       "      <td>32.635181</td>\n",
       "    </tr>\n",
       "    <tr>\n",
       "      <th>2</th>\n",
       "      <td>11002</td>\n",
       "      <td>NaN</td>\n",
       "      <td>Ruben</td>\n",
       "      <td>NaN</td>\n",
       "      <td>Torres</td>\n",
       "      <td>NaN</td>\n",
       "      <td>5844 Linden Land</td>\n",
       "      <td>NaN</td>\n",
       "      <td>Hobart</td>\n",
       "      <td>Tasmania</td>\n",
       "      <td>Australia</td>\n",
       "      <td>7001</td>\n",
       "      <td>1 (11) 500 555-0184</td>\n",
       "      <td>1965-08-12</td>\n",
       "      <td>Bachelors</td>\n",
       "      <td>Professional</td>\n",
       "      <td>M</td>\n",
       "      <td>M</td>\n",
       "      <td>1</td>\n",
       "      <td>1</td>\n",
       "      <td>3</td>\n",
       "      <td>3</td>\n",
       "      <td>91945</td>\n",
       "      <td>0</td>\n",
       "      <td>123</td>\n",
       "      <td>32.388775</td>\n",
       "    </tr>\n",
       "    <tr>\n",
       "      <th>3</th>\n",
       "      <td>11003</td>\n",
       "      <td>NaN</td>\n",
       "      <td>Christy</td>\n",
       "      <td>NaN</td>\n",
       "      <td>Zhu</td>\n",
       "      <td>NaN</td>\n",
       "      <td>1825 Village Pl.</td>\n",
       "      <td>NaN</td>\n",
       "      <td>North Ryde</td>\n",
       "      <td>New South Wales</td>\n",
       "      <td>Australia</td>\n",
       "      <td>2113</td>\n",
       "      <td>1 (11) 500 555-0162</td>\n",
       "      <td>1968-02-15</td>\n",
       "      <td>Bachelors</td>\n",
       "      <td>Professional</td>\n",
       "      <td>F</td>\n",
       "      <td>S</td>\n",
       "      <td>0</td>\n",
       "      <td>1</td>\n",
       "      <td>0</td>\n",
       "      <td>0</td>\n",
       "      <td>86688</td>\n",
       "      <td>0</td>\n",
       "      <td>50</td>\n",
       "      <td>29.878166</td>\n",
       "    </tr>\n",
       "    <tr>\n",
       "      <th>4</th>\n",
       "      <td>11004</td>\n",
       "      <td>NaN</td>\n",
       "      <td>Elizabeth</td>\n",
       "      <td>NaN</td>\n",
       "      <td>Johnson</td>\n",
       "      <td>NaN</td>\n",
       "      <td>7553 Harness Circle</td>\n",
       "      <td>NaN</td>\n",
       "      <td>Wollongong</td>\n",
       "      <td>New South Wales</td>\n",
       "      <td>Australia</td>\n",
       "      <td>2500</td>\n",
       "      <td>1 (11) 500 555-0131</td>\n",
       "      <td>1968-08-08</td>\n",
       "      <td>Bachelors</td>\n",
       "      <td>Professional</td>\n",
       "      <td>F</td>\n",
       "      <td>S</td>\n",
       "      <td>1</td>\n",
       "      <td>4</td>\n",
       "      <td>5</td>\n",
       "      <td>5</td>\n",
       "      <td>92771</td>\n",
       "      <td>1</td>\n",
       "      <td>95</td>\n",
       "      <td>29.399042</td>\n",
       "    </tr>\n",
       "  </tbody>\n",
       "</table>\n",
       "</div>"
      ],
      "text/plain": [
       "   CustomerID Title  FirstName MiddleName LastName Suffix  \\\n",
       "0       11000   NaN        Jon          V     Yang    NaN   \n",
       "1       11001   NaN     Eugene          L    Huang    NaN   \n",
       "2       11002   NaN      Ruben        NaN   Torres    NaN   \n",
       "3       11003   NaN    Christy        NaN      Zhu    NaN   \n",
       "4       11004   NaN  Elizabeth        NaN  Johnson    NaN   \n",
       "\n",
       "          AddressLine1 AddressLine2         City StateProvinceName  \\\n",
       "0      3761 N. 14th St          NaN  Rockhampton        Queensland   \n",
       "1           2243 W St.          NaN      Seaford          Victoria   \n",
       "2     5844 Linden Land          NaN       Hobart          Tasmania   \n",
       "3     1825 Village Pl.          NaN   North Ryde   New South Wales   \n",
       "4  7553 Harness Circle          NaN   Wollongong   New South Wales   \n",
       "\n",
       "  CountryRegionName PostalCode          PhoneNumber  BirthDate   Education  \\\n",
       "0         Australia       4700  1 (11) 500 555-0162 1966-04-08  Bachelors    \n",
       "1         Australia       3198  1 (11) 500 555-0110 1965-05-14  Bachelors    \n",
       "2         Australia       7001  1 (11) 500 555-0184 1965-08-12  Bachelors    \n",
       "3         Australia       2113  1 (11) 500 555-0162 1968-02-15  Bachelors    \n",
       "4         Australia       2500  1 (11) 500 555-0131 1968-08-08  Bachelors    \n",
       "\n",
       "     Occupation Gender MaritalStatus  HomeOwnerFlag  NumberCarsOwned  \\\n",
       "0  Professional      M             M              1                0   \n",
       "1  Professional      M             S              0                1   \n",
       "2  Professional      M             M              1                1   \n",
       "3  Professional      F             S              0                1   \n",
       "4  Professional      F             S              1                4   \n",
       "\n",
       "   NumberChildrenAtHome  TotalChildren  YearlyIncome  BikeBuyer  \\\n",
       "0                     0              2        137947          0   \n",
       "1                     3              3        101141          1   \n",
       "2                     3              3         91945          0   \n",
       "3                     0              0         86688          0   \n",
       "4                     5              5         92771          1   \n",
       "\n",
       "   AveMonthSpend        Age  \n",
       "0             89  31.734428  \n",
       "1            117  32.635181  \n",
       "2            123  32.388775  \n",
       "3             50  29.878166  \n",
       "4             95  29.399042  "
      ]
     },
     "execution_count": 23,
     "metadata": {},
     "output_type": "execute_result"
    }
   ],
   "source": [
    "dataset['diff'] = pd.to_datetime('1998-01-01') - dataset['BirthDate']\n",
    "dataset['Age'] = dataset['diff'].apply(lambda x: float(x.days)/365.25)\n",
    "dataset = dataset.drop(['diff'], axis =1)\n",
    "dataset.head()"
   ]
  },
  {
   "cell_type": "markdown",
   "metadata": {},
   "source": [
    "*****\n",
    "**Q8** : Based on their age at the time when the data was collected (1st January 1998), which group of customers accounts for the highest AveMonthSpend values?\n",
    " \n",
    "*****"
   ]
  },
  {
   "cell_type": "code",
   "execution_count": 24,
   "metadata": {},
   "outputs": [
    {
     "data": {
      "text/plain": [
       "Gender  Age_Group\n",
       "F       25-45        293925\n",
       "        45-55         70079\n",
       "        <25           70476\n",
       "        >55           24935\n",
       "M       25-45        473090\n",
       "        45-55        109608\n",
       "        <25          107698\n",
       "        >55           37695\n",
       "Name: AveMonthSpend, dtype: int64"
      ]
     },
     "execution_count": 24,
     "metadata": {},
     "output_type": "execute_result"
    }
   ],
   "source": [
    "dataset['Age_Group'] = '<25'\n",
    "dataset.loc[(dataset['Age'] >= 25) & (dataset['Age'] < 45), 'Age_Group'] = '25-45'\n",
    "dataset.loc[(dataset['Age'] >= 45) & (dataset['Age'] < 55), 'Age_Group'] = '45-55'\n",
    "dataset.loc[dataset['Age'] >= 55,'Age_Group'] = '>55'\n",
    "dataset.groupby(['Gender','Age_Group'])['AveMonthSpend'].sum()"
   ]
  },
  {
   "cell_type": "markdown",
   "metadata": {},
   "source": [
    "*****\n",
    "**Q9** : Which of the following statements about AveMonthSpend are true?\n",
    "*****"
   ]
  },
  {
   "cell_type": "code",
   "execution_count": 25,
   "metadata": {},
   "outputs": [
    {
     "name": "stdout",
     "output_type": "stream",
     "text": [
      "MaritalStatus\n",
      "M    74\n",
      "S    62\n",
      "Name: AveMonthSpend, dtype: int64\n",
      "NumberCarsOwned\n",
      "0     65\n",
      "1     63\n",
      "2     64\n",
      "3     92\n",
      "4    100\n",
      "Name: AveMonthSpend, dtype: int64\n",
      "Gender\n",
      "F    52\n",
      "M    79\n",
      "Name: AveMonthSpend, dtype: int64\n",
      "Gender\n",
      "F    16.412431\n",
      "M    26.945938\n",
      "Name: AveMonthSpend, dtype: float64\n",
      "TotalChildren\n",
      "0    56\n",
      "1    61\n",
      "2    66\n",
      "3    73\n",
      "4    83\n",
      "5    97\n",
      "Name: AveMonthSpend, dtype: int64\n"
     ]
    }
   ],
   "source": [
    "print(dataset.groupby(['MaritalStatus'])['AveMonthSpend'].median())\n",
    "print(dataset.groupby(['NumberCarsOwned'])['AveMonthSpend'].median())\n",
    "print(dataset.groupby(['Gender'])['AveMonthSpend'].median())\n",
    "print(dataset.groupby(['Gender'])['AveMonthSpend'].std())\n",
    "print(dataset.groupby(['TotalChildren'])['AveMonthSpend'].median())"
   ]
  },
  {
   "cell_type": "markdown",
   "metadata": {},
   "source": [
    "*****\n",
    "**Q10** : Which of the following statements about BikeBuyer are true?\n",
    "*****"
   ]
  },
  {
   "cell_type": "code",
   "execution_count": 26,
   "metadata": {},
   "outputs": [
    {
     "name": "stdout",
     "output_type": "stream",
     "text": [
      "BikeBuyer\n",
      "0    65957\n",
      "1    96084\n",
      "Name: YearlyIncome, dtype: int64\n",
      "BikeBuyer\n",
      "0    1\n",
      "1    2\n",
      "Name: NumberCarsOwned, dtype: int64\n"
     ]
    }
   ],
   "source": [
    "print(dataset.groupby(['BikeBuyer'])['YearlyIncome'].median())\n",
    "print(dataset.groupby(['BikeBuyer'])['NumberCarsOwned'].median())"
   ]
  },
  {
   "cell_type": "code",
   "execution_count": 27,
   "metadata": {},
   "outputs": [
    {
     "data": {
      "image/png": "[encoded data removed]",
      "text/plain": [
       "<Figure size 504x360 with 1 Axes>"
      ]
     },
     "metadata": {
      "needs_background": "light"
     },
     "output_type": "display_data"
    }
   ],
   "source": [
    "plt.figure(figsize=(7,5));\n",
    "sns.countplot(x=\"BikeBuyer\", hue=\"Occupation\", data=dataset);"
   ]
  },
  {
   "cell_type": "code",
   "execution_count": 28,
   "metadata": {},
   "outputs": [
    {
     "name": "stdout",
     "output_type": "stream",
     "text": [
      "Gender  BikeBuyer\n",
      "F       0            5881\n",
      "        1            2233\n",
      "M       0            5070\n",
      "        1            3220\n",
      "Name: Gender, dtype: int64\n"
     ]
    },
    {
     "data": {
      "image/png": "[encoded data removed]",
      "text/plain": [
       "<Figure size 504x360 with 1 Axes>"
      ]
     },
     "metadata": {
      "needs_background": "light"
     },
     "output_type": "display_data"
    }
   ],
   "source": [
    "print(dataset.groupby(['Gender','BikeBuyer'])['Gender'].count())\n",
    "plt.figure(figsize=(7,5));\n",
    "sns.countplot(x=\"Gender\", hue=\"BikeBuyer\", data=dataset);"
   ]
  },
  {
   "cell_type": "code",
   "execution_count": 29,
   "metadata": {},
   "outputs": [
    {
     "name": "stdout",
     "output_type": "stream",
     "text": [
      "MaritalStatus  BikeBuyer\n",
      "M              0            6654\n",
      "               1            2198\n",
      "S              0            4297\n",
      "               1            3255\n",
      "Name: Gender, dtype: int64\n"
     ]
    },
    {
     "data": {
      "image/png": "[encoded data removed]",
      "text/plain": [
       "<Figure size 504x360 with 1 Axes>"
      ]
     },
     "metadata": {
      "needs_background": "light"
     },
     "output_type": "display_data"
    }
   ],
   "source": [
    "print(dataset.groupby(['MaritalStatus','BikeBuyer'])['Gender'].count())\n",
    "\n",
    "plt.figure(figsize=(7,5));\n",
    "sns.countplot(x=\"MaritalStatus\", hue=\"BikeBuyer\", data=dataset);"
   ]
  },
  {
   "cell_type": "markdown",
   "metadata": {},
   "source": [
    "# Challenge 2 : Classification problem"
   ]
  },
  {
   "cell_type": "markdown",
   "metadata": {},
   "source": [
    "## Data Preprocessing"
   ]
  },
  {
   "cell_type": "code",
   "execution_count": 30,
   "metadata": {},
   "outputs": [
    {
     "name": "stdout",
     "output_type": "stream",
     "text": [
      "<class 'pandas.core.frame.DataFrame'>\n",
      "Int64Index: 16404 entries, 0 to 16403\n",
      "Data columns (total 27 columns):\n",
      "CustomerID              16404 non-null int64\n",
      "Title                   88 non-null object\n",
      "FirstName               16404 non-null object\n",
      "MiddleName              9453 non-null object\n",
      "LastName                16404 non-null object\n",
      "Suffix                  2 non-null object\n",
      "AddressLine1            16404 non-null object\n",
      "AddressLine2            272 non-null object\n",
      "City                    16404 non-null object\n",
      "StateProvinceName       16404 non-null object\n",
      "CountryRegionName       16404 non-null object\n",
      "PostalCode              16404 non-null object\n",
      "PhoneNumber             16404 non-null object\n",
      "BirthDate               16404 non-null datetime64[ns]\n",
      "Education               16404 non-null object\n",
      "Occupation              16404 non-null object\n",
      "Gender                  16404 non-null object\n",
      "MaritalStatus           16404 non-null object\n",
      "HomeOwnerFlag           16404 non-null int64\n",
      "NumberCarsOwned         16404 non-null int64\n",
      "NumberChildrenAtHome    16404 non-null int64\n",
      "TotalChildren           16404 non-null int64\n",
      "YearlyIncome            16404 non-null int64\n",
      "BikeBuyer               16404 non-null int64\n",
      "AveMonthSpend           16404 non-null int64\n",
      "Age                     16404 non-null float64\n",
      "Age_Group               16404 non-null object\n",
      "dtypes: datetime64[ns](1), float64(1), int64(8), object(17)\n",
      "memory usage: 4.1+ MB\n"
     ]
    }
   ],
   "source": [
    "# Variable type\n",
    "dataset.info()"
   ]
  },
  {
   "cell_type": "code",
   "execution_count": 31,
   "metadata": {},
   "outputs": [
    {
     "name": "stdout",
     "output_type": "stream",
     "text": [
      "Unique values in FirstName: 662\n",
      "Unique values in LastName: 363\n",
      "Unique values in City: 267\n",
      "Unique values in StateProvinceName: 51\n",
      "Unique values in CountryRegionName: 6\n",
      "Unique values in PostalCode: 321\n",
      "Unique values in PhoneNumber: 7949\n",
      "Unique values in Education: 5\n",
      "Unique values in Occupation: 5\n",
      "Unique values in Gender: 2\n",
      "Unique values in MaritalStatus: 2\n"
     ]
    }
   ],
   "source": [
    "print(\"Unique values in FirstName:\" , len(dataset.FirstName.unique()))\n",
    "print(\"Unique values in LastName:\" , len(dataset.LastName.unique()))\n",
    "print(\"Unique values in City:\" , len(dataset.City.unique()))\n",
    "print(\"Unique values in StateProvinceName:\" , len(dataset.StateProvinceName.unique()))\n",
    "print(\"Unique values in CountryRegionName:\" , len(dataset.CountryRegionName.unique()))\n",
    "print(\"Unique values in PostalCode:\" , len(dataset.PostalCode.unique()))\n",
    "print(\"Unique values in PhoneNumber:\" , len(dataset.PhoneNumber.unique()))\n",
    "print(\"Unique values in Education:\" , len(dataset.Education.unique()))\n",
    "print(\"Unique values in Occupation:\" , len(dataset.Occupation.unique()))\n",
    "print(\"Unique values in Gender:\" , len(dataset.Gender.unique()))\n",
    "print(\"Unique values in MaritalStatus:\" , len(dataset.MaritalStatus.unique()))"
   ]
  },
  {
   "cell_type": "code",
   "execution_count": 32,
   "metadata": {},
   "outputs": [
    {
     "data": {
      "text/plain": [
       "California             3948\n",
       "Washington             2017\n",
       "England                1709\n",
       "British Columbia       1388\n",
       "New South Wales        1376\n",
       "Oregon                  934\n",
       "Victoria                801\n",
       "Queensland              713\n",
       "Saarland                388\n",
       "Nordrhein-Westfalen     362\n",
       "Seine (Paris)           341\n",
       "Hessen                  334\n",
       "Hamburg                 268\n",
       "Seine Saint Denis       255\n",
       "Nord                    247\n",
       "South Australia         212\n",
       "Bayern                  198\n",
       "Hauts de Seine          168\n",
       "Yveline                 149\n",
       "Essonne                 131\n",
       "Tasmania                 92\n",
       "Loiret                   52\n",
       "Seine et Marne           52\n",
       "Moselle                  49\n",
       "Val d'Oise               27\n",
       "Brandenburg              27\n",
       "Val de Marne             26\n",
       "Garonne (Haute)          25\n",
       "Somme                    20\n",
       "Charente-Maritime        19\n",
       "Pas de Calais            15\n",
       "Loir et Cher             15\n",
       "Alberta                  10\n",
       "Illinois                  6\n",
       "Texas                     4\n",
       "Ohio                      4\n",
       "Georgia                   3\n",
       "New York                  3\n",
       "Utah                      2\n",
       "Arizona                   2\n",
       "Florida                   2\n",
       "Mississippi               1\n",
       "Virginia                  1\n",
       "Kentucky                  1\n",
       "Wyoming                   1\n",
       "Missouri                  1\n",
       "North Carolina            1\n",
       "Minnesota                 1\n",
       "Massachusetts             1\n",
       "South Carolina            1\n",
       "Alabama                   1\n",
       "Name: StateProvinceName, dtype: int64"
      ]
     },
     "execution_count": 32,
     "metadata": {},
     "output_type": "execute_result"
    }
   ],
   "source": [
    "dataset['StateProvinceName'].value_counts()"
   ]
  },
  {
   "cell_type": "code",
   "execution_count": 33,
   "metadata": {},
   "outputs": [
    {
     "name": "stdout",
     "output_type": "stream",
     "text": [
      "No of rows and columns in train: (16404, 13)\n"
     ]
    }
   ],
   "source": [
    "train = dataset.drop(['CustomerID','Title','MiddleName','Suffix','AddressLine1', 'AddressLine2', 'FirstName','LastName','City',\n",
    "                      'StateProvinceName','PostalCode','PhoneNumber', 'Age', 'Age_Group'],axis = 1)\n",
    "print(\"No of rows and columns in train:\", train.shape)"
   ]
  },
  {
   "cell_type": "code",
   "execution_count": 34,
   "metadata": {},
   "outputs": [
    {
     "name": "stdout",
     "output_type": "stream",
     "text": [
      "<class 'pandas.core.frame.DataFrame'>\n",
      "Int64Index: 16404 entries, 0 to 16403\n",
      "Data columns (total 13 columns):\n",
      "CountryRegionName       16404 non-null object\n",
      "BirthDate               16404 non-null datetime64[ns]\n",
      "Education               16404 non-null object\n",
      "Occupation              16404 non-null object\n",
      "Gender                  16404 non-null object\n",
      "MaritalStatus           16404 non-null object\n",
      "HomeOwnerFlag           16404 non-null int64\n",
      "NumberCarsOwned         16404 non-null int64\n",
      "NumberChildrenAtHome    16404 non-null int64\n",
      "TotalChildren           16404 non-null int64\n",
      "YearlyIncome            16404 non-null int64\n",
      "BikeBuyer               16404 non-null int64\n",
      "AveMonthSpend           16404 non-null int64\n",
      "dtypes: datetime64[ns](1), int64(7), object(5)\n",
      "memory usage: 2.4+ MB\n"
     ]
    }
   ],
   "source": [
    "train.info()"
   ]
  },
  {
   "cell_type": "code",
   "execution_count": 35,
   "metadata": {},
   "outputs": [
    {
     "data": {
      "text/plain": [
       "CountryRegionName       0\n",
       "BirthDate               0\n",
       "Education               0\n",
       "Occupation              0\n",
       "Gender                  0\n",
       "MaritalStatus           0\n",
       "HomeOwnerFlag           0\n",
       "NumberCarsOwned         0\n",
       "NumberChildrenAtHome    0\n",
       "TotalChildren           0\n",
       "YearlyIncome            0\n",
       "BikeBuyer               0\n",
       "AveMonthSpend           0\n",
       "dtype: int64"
      ]
     },
     "execution_count": 35,
     "metadata": {},
     "output_type": "execute_result"
    }
   ],
   "source": [
    "train.isnull().sum()"
   ]
  },
  {
   "cell_type": "code",
   "execution_count": 36,
   "metadata": {},
   "outputs": [
    {
     "data": {
      "text/html": [
       "<div>\n",
       "<style scoped>\n",
       "    .dataframe tbody tr th:only-of-type {\n",
       "        vertical-align: middle;\n",
       "    }\n",
       "\n",
       "    .dataframe tbody tr th {\n",
       "        vertical-align: top;\n",
       "    }\n",
       "\n",
       "    .dataframe thead th {\n",
       "        text-align: right;\n",
       "    }\n",
       "</style>\n",
       "<table border=\"1\" class=\"dataframe\">\n",
       "  <thead>\n",
       "    <tr style=\"text-align: right;\">\n",
       "      <th></th>\n",
       "      <th>CountryRegionName</th>\n",
       "      <th>BirthDate</th>\n",
       "      <th>Education</th>\n",
       "      <th>Occupation</th>\n",
       "      <th>Gender</th>\n",
       "      <th>MaritalStatus</th>\n",
       "      <th>HomeOwnerFlag</th>\n",
       "      <th>NumberCarsOwned</th>\n",
       "      <th>NumberChildrenAtHome</th>\n",
       "      <th>TotalChildren</th>\n",
       "      <th>YearlyIncome</th>\n",
       "      <th>BikeBuyer</th>\n",
       "      <th>AveMonthSpend</th>\n",
       "    </tr>\n",
       "  </thead>\n",
       "  <tbody>\n",
       "    <tr>\n",
       "      <th>0</th>\n",
       "      <td>Australia</td>\n",
       "      <td>1966-04-08</td>\n",
       "      <td>Bachelors</td>\n",
       "      <td>Professional</td>\n",
       "      <td>M</td>\n",
       "      <td>M</td>\n",
       "      <td>1</td>\n",
       "      <td>0</td>\n",
       "      <td>0</td>\n",
       "      <td>2</td>\n",
       "      <td>137947</td>\n",
       "      <td>0</td>\n",
       "      <td>89</td>\n",
       "    </tr>\n",
       "    <tr>\n",
       "      <th>1</th>\n",
       "      <td>Australia</td>\n",
       "      <td>1965-05-14</td>\n",
       "      <td>Bachelors</td>\n",
       "      <td>Professional</td>\n",
       "      <td>M</td>\n",
       "      <td>S</td>\n",
       "      <td>0</td>\n",
       "      <td>1</td>\n",
       "      <td>3</td>\n",
       "      <td>3</td>\n",
       "      <td>101141</td>\n",
       "      <td>1</td>\n",
       "      <td>117</td>\n",
       "    </tr>\n",
       "    <tr>\n",
       "      <th>2</th>\n",
       "      <td>Australia</td>\n",
       "      <td>1965-08-12</td>\n",
       "      <td>Bachelors</td>\n",
       "      <td>Professional</td>\n",
       "      <td>M</td>\n",
       "      <td>M</td>\n",
       "      <td>1</td>\n",
       "      <td>1</td>\n",
       "      <td>3</td>\n",
       "      <td>3</td>\n",
       "      <td>91945</td>\n",
       "      <td>0</td>\n",
       "      <td>123</td>\n",
       "    </tr>\n",
       "    <tr>\n",
       "      <th>3</th>\n",
       "      <td>Australia</td>\n",
       "      <td>1968-02-15</td>\n",
       "      <td>Bachelors</td>\n",
       "      <td>Professional</td>\n",
       "      <td>F</td>\n",
       "      <td>S</td>\n",
       "      <td>0</td>\n",
       "      <td>1</td>\n",
       "      <td>0</td>\n",
       "      <td>0</td>\n",
       "      <td>86688</td>\n",
       "      <td>0</td>\n",
       "      <td>50</td>\n",
       "    </tr>\n",
       "    <tr>\n",
       "      <th>4</th>\n",
       "      <td>Australia</td>\n",
       "      <td>1968-08-08</td>\n",
       "      <td>Bachelors</td>\n",
       "      <td>Professional</td>\n",
       "      <td>F</td>\n",
       "      <td>S</td>\n",
       "      <td>1</td>\n",
       "      <td>4</td>\n",
       "      <td>5</td>\n",
       "      <td>5</td>\n",
       "      <td>92771</td>\n",
       "      <td>1</td>\n",
       "      <td>95</td>\n",
       "    </tr>\n",
       "  </tbody>\n",
       "</table>\n",
       "</div>"
      ],
      "text/plain": [
       "  CountryRegionName  BirthDate   Education    Occupation Gender MaritalStatus  \\\n",
       "0         Australia 1966-04-08  Bachelors   Professional      M             M   \n",
       "1         Australia 1965-05-14  Bachelors   Professional      M             S   \n",
       "2         Australia 1965-08-12  Bachelors   Professional      M             M   \n",
       "3         Australia 1968-02-15  Bachelors   Professional      F             S   \n",
       "4         Australia 1968-08-08  Bachelors   Professional      F             S   \n",
       "\n",
       "   HomeOwnerFlag  NumberCarsOwned  NumberChildrenAtHome  TotalChildren  \\\n",
       "0              1                0                     0              2   \n",
       "1              0                1                     3              3   \n",
       "2              1                1                     3              3   \n",
       "3              0                1                     0              0   \n",
       "4              1                4                     5              5   \n",
       "\n",
       "   YearlyIncome  BikeBuyer  AveMonthSpend  \n",
       "0        137947          0             89  \n",
       "1        101141          1            117  \n",
       "2         91945          0            123  \n",
       "3         86688          0             50  \n",
       "4         92771          1             95  "
      ]
     },
     "execution_count": 36,
     "metadata": {},
     "output_type": "execute_result"
    }
   ],
   "source": [
    "train.head()"
   ]
  },
  {
   "cell_type": "markdown",
   "metadata": {},
   "source": [
    "### Creating New variable : Age"
   ]
  },
  {
   "cell_type": "code",
   "execution_count": 37,
   "metadata": {},
   "outputs": [
    {
     "data": {
      "text/html": [
       "<div>\n",
       "<style scoped>\n",
       "    .dataframe tbody tr th:only-of-type {\n",
       "        vertical-align: middle;\n",
       "    }\n",
       "\n",
       "    .dataframe tbody tr th {\n",
       "        vertical-align: top;\n",
       "    }\n",
       "\n",
       "    .dataframe thead th {\n",
       "        text-align: right;\n",
       "    }\n",
       "</style>\n",
       "<table border=\"1\" class=\"dataframe\">\n",
       "  <thead>\n",
       "    <tr style=\"text-align: right;\">\n",
       "      <th></th>\n",
       "      <th>CountryRegionName</th>\n",
       "      <th>Education</th>\n",
       "      <th>Occupation</th>\n",
       "      <th>Gender</th>\n",
       "      <th>MaritalStatus</th>\n",
       "      <th>HomeOwnerFlag</th>\n",
       "      <th>NumberCarsOwned</th>\n",
       "      <th>NumberChildrenAtHome</th>\n",
       "      <th>TotalChildren</th>\n",
       "      <th>YearlyIncome</th>\n",
       "      <th>BikeBuyer</th>\n",
       "      <th>AveMonthSpend</th>\n",
       "      <th>Age</th>\n",
       "    </tr>\n",
       "  </thead>\n",
       "  <tbody>\n",
       "    <tr>\n",
       "      <th>0</th>\n",
       "      <td>Australia</td>\n",
       "      <td>Bachelors</td>\n",
       "      <td>Professional</td>\n",
       "      <td>M</td>\n",
       "      <td>M</td>\n",
       "      <td>1</td>\n",
       "      <td>0</td>\n",
       "      <td>0</td>\n",
       "      <td>2</td>\n",
       "      <td>137947</td>\n",
       "      <td>0</td>\n",
       "      <td>89</td>\n",
       "      <td>32.0</td>\n",
       "    </tr>\n",
       "    <tr>\n",
       "      <th>1</th>\n",
       "      <td>Australia</td>\n",
       "      <td>Bachelors</td>\n",
       "      <td>Professional</td>\n",
       "      <td>M</td>\n",
       "      <td>S</td>\n",
       "      <td>0</td>\n",
       "      <td>1</td>\n",
       "      <td>3</td>\n",
       "      <td>3</td>\n",
       "      <td>101141</td>\n",
       "      <td>1</td>\n",
       "      <td>117</td>\n",
       "      <td>33.0</td>\n",
       "    </tr>\n",
       "    <tr>\n",
       "      <th>2</th>\n",
       "      <td>Australia</td>\n",
       "      <td>Bachelors</td>\n",
       "      <td>Professional</td>\n",
       "      <td>M</td>\n",
       "      <td>M</td>\n",
       "      <td>1</td>\n",
       "      <td>1</td>\n",
       "      <td>3</td>\n",
       "      <td>3</td>\n",
       "      <td>91945</td>\n",
       "      <td>0</td>\n",
       "      <td>123</td>\n",
       "      <td>32.0</td>\n",
       "    </tr>\n",
       "    <tr>\n",
       "      <th>3</th>\n",
       "      <td>Australia</td>\n",
       "      <td>Bachelors</td>\n",
       "      <td>Professional</td>\n",
       "      <td>F</td>\n",
       "      <td>S</td>\n",
       "      <td>0</td>\n",
       "      <td>1</td>\n",
       "      <td>0</td>\n",
       "      <td>0</td>\n",
       "      <td>86688</td>\n",
       "      <td>0</td>\n",
       "      <td>50</td>\n",
       "      <td>30.0</td>\n",
       "    </tr>\n",
       "    <tr>\n",
       "      <th>4</th>\n",
       "      <td>Australia</td>\n",
       "      <td>Bachelors</td>\n",
       "      <td>Professional</td>\n",
       "      <td>F</td>\n",
       "      <td>S</td>\n",
       "      <td>1</td>\n",
       "      <td>4</td>\n",
       "      <td>5</td>\n",
       "      <td>5</td>\n",
       "      <td>92771</td>\n",
       "      <td>1</td>\n",
       "      <td>95</td>\n",
       "      <td>29.0</td>\n",
       "    </tr>\n",
       "  </tbody>\n",
       "</table>\n",
       "</div>"
      ],
      "text/plain": [
       "  CountryRegionName   Education    Occupation Gender MaritalStatus  \\\n",
       "0         Australia  Bachelors   Professional      M             M   \n",
       "1         Australia  Bachelors   Professional      M             S   \n",
       "2         Australia  Bachelors   Professional      M             M   \n",
       "3         Australia  Bachelors   Professional      F             S   \n",
       "4         Australia  Bachelors   Professional      F             S   \n",
       "\n",
       "   HomeOwnerFlag  NumberCarsOwned  NumberChildrenAtHome  TotalChildren  \\\n",
       "0              1                0                     0              2   \n",
       "1              0                1                     3              3   \n",
       "2              1                1                     3              3   \n",
       "3              0                1                     0              0   \n",
       "4              1                4                     5              5   \n",
       "\n",
       "   YearlyIncome  BikeBuyer  AveMonthSpend   Age  \n",
       "0        137947          0             89  32.0  \n",
       "1        101141          1            117  33.0  \n",
       "2         91945          0            123  32.0  \n",
       "3         86688          0             50  30.0  \n",
       "4         92771          1             95  29.0  "
      ]
     },
     "execution_count": 37,
     "metadata": {},
     "output_type": "execute_result"
    }
   ],
   "source": [
    "# Creating New variable : Age\n",
    "train['BirthDate']= pd.to_datetime(train['BirthDate']) \n",
    "\n",
    "train['diff'] = pd.to_datetime('1998-01-01') - train['BirthDate']\n",
    "train['Age'] = train['diff'].apply(lambda x: float(x.days)/365.25)\n",
    "train = train.drop(['BirthDate', 'diff'], axis =1)\n",
    "\n",
    "decimals = 0    \n",
    "train['Age'] = train['Age'].apply(lambda x: round(x, decimals))\n",
    "\n",
    "train.head()"
   ]
  },
  {
   "cell_type": "markdown",
   "metadata": {},
   "source": [
    "### Chaging datatype"
   ]
  },
  {
   "cell_type": "code",
   "execution_count": 38,
   "metadata": {},
   "outputs": [
    {
     "data": {
      "text/plain": [
       "CountryRegionName        object\n",
       "Education                object\n",
       "Occupation               object\n",
       "Gender                   object\n",
       "MaritalStatus            object\n",
       "HomeOwnerFlag            object\n",
       "NumberCarsOwned          object\n",
       "NumberChildrenAtHome     object\n",
       "TotalChildren            object\n",
       "YearlyIncome              int64\n",
       "BikeBuyer                 int64\n",
       "AveMonthSpend             int64\n",
       "Age                     float64\n",
       "dtype: object"
      ]
     },
     "execution_count": 38,
     "metadata": {},
     "output_type": "execute_result"
    }
   ],
   "source": [
    "train['HomeOwnerFlag'] = train['HomeOwnerFlag'].astype('object')\n",
    "train['NumberCarsOwned'] = train['NumberCarsOwned'].astype('object')\n",
    "train['NumberChildrenAtHome'] = train['NumberChildrenAtHome'].astype('object')\n",
    "train['TotalChildren'] = train['TotalChildren'].astype('object')\n",
    "train.dtypes"
   ]
  },
  {
   "cell_type": "markdown",
   "metadata": {},
   "source": [
    "### Checking distribution of numeric features"
   ]
  },
  {
   "cell_type": "code",
   "execution_count": 39,
   "metadata": {},
   "outputs": [
    {
     "name": "stderr",
     "output_type": "stream",
     "text": [
      "C:\\ProgramData\\Anaconda3\\lib\\site-packages\\scipy\\stats\\stats.py:1713: FutureWarning: Using a non-tuple sequence for multidimensional indexing is deprecated; use `arr[tuple(seq)]` instead of `arr[seq]`. In the future this will be interpreted as an array index, `arr[np.array(seq)]`, which will result either in an error or a different result.\n",
      "  return np.add.reduce(sorted[indexer] * weights, axis=axis) / sumval\n"
     ]
    },
    {
     "data": {
      "image/png": "[encoded data removed]",
      "text/plain": [
       "<Figure size 1080x360 with 2 Axes>"
      ]
     },
     "metadata": {
      "needs_background": "light"
     },
     "output_type": "display_data"
    }
   ],
   "source": [
    "plt.figure(figsize=(15,5));\n",
    "plt.subplot(1, 2, 1)\n",
    "sns.distplot(train['YearlyIncome']);\n",
    "plt.subplot(1, 2, 2)\n",
    "sns.distplot(train['Age']);"
   ]
  },
  {
   "cell_type": "markdown",
   "metadata": {},
   "source": [
    "### Visualize class separation by numeric features"
   ]
  },
  {
   "cell_type": "code",
   "execution_count": 40,
   "metadata": {},
   "outputs": [
    {
     "data": {
      "image/png": "[encoded data removed]",
      "text/plain": [
       "<Figure size 432x288 with 1 Axes>"
      ]
     },
     "metadata": {},
     "output_type": "display_data"
    },
    {
     "data": {
      "image/png": "[encoded data removed]",
      "text/plain": [
       "<Figure size 432x288 with 1 Axes>"
      ]
     },
     "metadata": {},
     "output_type": "display_data"
    }
   ],
   "source": [
    "def plot_box(train, cols, col_x = 'BikeBuyer'):\n",
    "    for col in cols:\n",
    "        sns.set_style(\"whitegrid\")\n",
    "        sns.boxplot(col_x, col, data=train)\n",
    "        plt.xlabel(col_x) # Set text for the x axis\n",
    "        plt.ylabel(col)# Set text for y axis\n",
    "        plt.show();\n",
    "\n",
    "num_cols = ['YearlyIncome', 'Age']\n",
    "plot_box(train, num_cols)"
   ]
  },
  {
   "cell_type": "markdown",
   "metadata": {},
   "source": [
    "### Visualize class separation by categorical features"
   ]
  },
  {
   "cell_type": "code",
   "execution_count": 41,
   "metadata": {},
   "outputs": [
    {
     "name": "stdout",
     "output_type": "stream",
     "text": [
      "['CountryRegionName', 'Education', 'Occupation', 'Gender', 'MaritalStatus', 'HomeOwnerFlag', 'NumberCarsOwned', 'NumberChildrenAtHome', 'TotalChildren']\n"
     ]
    }
   ],
   "source": [
    "cat_cols = train.select_dtypes(include=['object']).columns.tolist()\n",
    "print(cat_cols)"
   ]
  },
  {
   "cell_type": "code",
   "execution_count": 42,
   "metadata": {},
   "outputs": [
    {
     "name": "stdout",
     "output_type": "stream",
     "text": [
      "CountryRegionName\n"
     ]
    },
    {
     "data": {
      "image/png": "[encoded data removed]",
      "text/plain": [
       "<Figure size 720x288 with 2 Axes>"
      ]
     },
     "metadata": {},
     "output_type": "display_data"
    },
    {
     "name": "stdout",
     "output_type": "stream",
     "text": [
      "Education\n"
     ]
    },
    {
     "data": {
      "image/png": "[encoded data removed]",
      "text/plain": [
       "<Figure size 720x288 with 2 Axes>"
      ]
     },
     "metadata": {},
     "output_type": "display_data"
    },
    {
     "name": "stdout",
     "output_type": "stream",
     "text": [
      "Occupation\n"
     ]
    },
    {
     "data": {
      "image/png": "[encoded data removed]",
      "text/plain": [
       "<Figure size 720x288 with 2 Axes>"
      ]
     },
     "metadata": {},
     "output_type": "display_data"
    },
    {
     "name": "stdout",
     "output_type": "stream",
     "text": [
      "Gender\n"
     ]
    },
    {
     "data": {
      "image/png": "[encoded data removed]",
      "text/plain": [
       "<Figure size 720x288 with 2 Axes>"
      ]
     },
     "metadata": {},
     "output_type": "display_data"
    },
    {
     "name": "stdout",
     "output_type": "stream",
     "text": [
      "MaritalStatus\n"
     ]
    },
    {
     "data": {
      "image/png": "[encoded data removed]",
      "text/plain": [
       "<Figure size 720x288 with 2 Axes>"
      ]
     },
     "metadata": {},
     "output_type": "display_data"
    },
    {
     "name": "stdout",
     "output_type": "stream",
     "text": [
      "HomeOwnerFlag\n"
     ]
    },
    {
     "data": {
      "image/png": "[encoded data removed]",
      "text/plain": [
       "<Figure size 720x288 with 2 Axes>"
      ]
     },
     "metadata": {},
     "output_type": "display_data"
    },
    {
     "name": "stdout",
     "output_type": "stream",
     "text": [
      "NumberCarsOwned\n"
     ]
    },
    {
     "data": {
      "image/png": "[encoded data removed]",
      "text/plain": [
       "<Figure size 720x288 with 2 Axes>"
      ]
     },
     "metadata": {},
     "output_type": "display_data"
    },
    {
     "name": "stdout",
     "output_type": "stream",
     "text": [
      "NumberChildrenAtHome\n"
     ]
    },
    {
     "data": {
      "image/png": "[encoded data removed]",
      "text/plain": [
       "<Figure size 720x288 with 2 Axes>"
      ]
     },
     "metadata": {},
     "output_type": "display_data"
    },
    {
     "name": "stdout",
     "output_type": "stream",
     "text": [
      "TotalChildren\n"
     ]
    },
    {
     "data": {
      "image/png": "[encoded data removed]",
      "text/plain": [
       "<Figure size 720x288 with 2 Axes>"
      ]
     },
     "metadata": {},
     "output_type": "display_data"
    }
   ],
   "source": [
    "train['dummy'] = np.ones(shape = train.shape[0])\n",
    "for col in cat_cols:\n",
    "    print(col)\n",
    "    counts = train[['dummy', 'BikeBuyer', col]].groupby(['BikeBuyer', col], as_index = False).count()\n",
    "    #temp = counts[counts['bad_train'] == 0][[col, 'dummy']]\n",
    "    _ = plt.figure(figsize = (10,4))\n",
    "    plt.subplot(1, 2, 1)\n",
    "    temp = counts[counts['BikeBuyer'] == 0][[col, 'dummy']]\n",
    "    plt.bar(temp[col], temp.dummy)\n",
    "    plt.xticks(rotation=90)\n",
    "    plt.title('Counts for ' + col + '\\n Bike not purchased')\n",
    "    plt.ylabel('count')\n",
    "    plt.subplot(1, 2, 2)\n",
    "    temp = counts[counts['BikeBuyer'] == 1][[col, 'dummy']]\n",
    "    plt.bar(temp[col], temp.dummy)\n",
    "    plt.xticks(rotation=90)\n",
    "    plt.title('Counts for ' + col + '\\n Bike purchased')\n",
    "    plt.ylabel('count')\n",
    "    plt.show()"
   ]
  },
  {
   "cell_type": "code",
   "execution_count": 43,
   "metadata": {},
   "outputs": [
    {
     "name": "stdout",
     "output_type": "stream",
     "text": [
      "Unique values in CountryRegionName :  6\n",
      "Unique values in Education :  5\n",
      "Unique values in Occupation :  5\n",
      "Unique values in Gender :  2\n",
      "Unique values in MaritalStatus :  2\n",
      "Unique values in HomeOwnerFlag :  2\n",
      "Unique values in NumberCarsOwned :  5\n",
      "Unique values in NumberChildrenAtHome :  6\n",
      "Unique values in TotalChildren :  6\n"
     ]
    }
   ],
   "source": [
    "for col in train[cat_cols]:\n",
    "    print(\"Unique values in \" + col + \" : \", len(train[col].unique()))"
   ]
  },
  {
   "cell_type": "code",
   "execution_count": 44,
   "metadata": {},
   "outputs": [
    {
     "name": "stdout",
     "output_type": "stream",
     "text": [
      "No of rows and columns in train: (16404, 34)\n",
      "YearlyIncome                          int64\n",
      "BikeBuyer                             int64\n",
      "AveMonthSpend                         int64\n",
      "Age                                 float64\n",
      "HomeOwnerFlag_1                       uint8\n",
      "Gender_M                              uint8\n",
      "MaritalStatus_S                       uint8\n",
      "CountryRegionName_Canada              uint8\n",
      "CountryRegionName_France              uint8\n",
      "CountryRegionName_Germany             uint8\n",
      "CountryRegionName_United Kingdom      uint8\n",
      "CountryRegionName_United States       uint8\n",
      "Education_Graduate Degree             uint8\n",
      "Education_High School                 uint8\n",
      "Education_Partial College             uint8\n",
      "Education_Partial High School         uint8\n",
      "Occupation_Management                 uint8\n",
      "Occupation_Manual                     uint8\n",
      "Occupation_Professional               uint8\n",
      "Occupation_Skilled Manual             uint8\n",
      "NumberCarsOwned_1                     uint8\n",
      "NumberCarsOwned_2                     uint8\n",
      "NumberCarsOwned_3                     uint8\n",
      "NumberCarsOwned_4                     uint8\n",
      "NumberChildrenAtHome_1                uint8\n",
      "NumberChildrenAtHome_2                uint8\n",
      "NumberChildrenAtHome_3                uint8\n",
      "NumberChildrenAtHome_4                uint8\n",
      "NumberChildrenAtHome_5                uint8\n",
      "TotalChildren_1                       uint8\n",
      "TotalChildren_2                       uint8\n",
      "TotalChildren_3                       uint8\n",
      "TotalChildren_4                       uint8\n",
      "TotalChildren_5                       uint8\n",
      "dtype: object\n"
     ]
    },
    {
     "data": {
      "text/html": [
       "<div>\n",
       "<style scoped>\n",
       "    .dataframe tbody tr th:only-of-type {\n",
       "        vertical-align: middle;\n",
       "    }\n",
       "\n",
       "    .dataframe tbody tr th {\n",
       "        vertical-align: top;\n",
       "    }\n",
       "\n",
       "    .dataframe thead th {\n",
       "        text-align: right;\n",
       "    }\n",
       "</style>\n",
       "<table border=\"1\" class=\"dataframe\">\n",
       "  <thead>\n",
       "    <tr style=\"text-align: right;\">\n",
       "      <th></th>\n",
       "      <th>YearlyIncome</th>\n",
       "      <th>BikeBuyer</th>\n",
       "      <th>AveMonthSpend</th>\n",
       "      <th>Age</th>\n",
       "      <th>HomeOwnerFlag_1</th>\n",
       "      <th>Gender_M</th>\n",
       "      <th>MaritalStatus_S</th>\n",
       "      <th>CountryRegionName_Canada</th>\n",
       "      <th>CountryRegionName_France</th>\n",
       "      <th>CountryRegionName_Germany</th>\n",
       "      <th>CountryRegionName_United Kingdom</th>\n",
       "      <th>CountryRegionName_United States</th>\n",
       "      <th>Education_Graduate Degree</th>\n",
       "      <th>Education_High School</th>\n",
       "      <th>Education_Partial College</th>\n",
       "      <th>Education_Partial High School</th>\n",
       "      <th>Occupation_Management</th>\n",
       "      <th>Occupation_Manual</th>\n",
       "      <th>Occupation_Professional</th>\n",
       "      <th>Occupation_Skilled Manual</th>\n",
       "      <th>NumberCarsOwned_1</th>\n",
       "      <th>NumberCarsOwned_2</th>\n",
       "      <th>NumberCarsOwned_3</th>\n",
       "      <th>NumberCarsOwned_4</th>\n",
       "      <th>NumberChildrenAtHome_1</th>\n",
       "      <th>NumberChildrenAtHome_2</th>\n",
       "      <th>NumberChildrenAtHome_3</th>\n",
       "      <th>NumberChildrenAtHome_4</th>\n",
       "      <th>NumberChildrenAtHome_5</th>\n",
       "      <th>TotalChildren_1</th>\n",
       "      <th>TotalChildren_2</th>\n",
       "      <th>TotalChildren_3</th>\n",
       "      <th>TotalChildren_4</th>\n",
       "      <th>TotalChildren_5</th>\n",
       "    </tr>\n",
       "  </thead>\n",
       "  <tbody>\n",
       "    <tr>\n",
       "      <th>0</th>\n",
       "      <td>137947</td>\n",
       "      <td>0</td>\n",
       "      <td>89</td>\n",
       "      <td>32.0</td>\n",
       "      <td>1</td>\n",
       "      <td>1</td>\n",
       "      <td>0</td>\n",
       "      <td>0</td>\n",
       "      <td>0</td>\n",
       "      <td>0</td>\n",
       "      <td>0</td>\n",
       "      <td>0</td>\n",
       "      <td>0</td>\n",
       "      <td>0</td>\n",
       "      <td>0</td>\n",
       "      <td>0</td>\n",
       "      <td>0</td>\n",
       "      <td>0</td>\n",
       "      <td>1</td>\n",
       "      <td>0</td>\n",
       "      <td>0</td>\n",
       "      <td>0</td>\n",
       "      <td>0</td>\n",
       "      <td>0</td>\n",
       "      <td>0</td>\n",
       "      <td>0</td>\n",
       "      <td>0</td>\n",
       "      <td>0</td>\n",
       "      <td>0</td>\n",
       "      <td>0</td>\n",
       "      <td>1</td>\n",
       "      <td>0</td>\n",
       "      <td>0</td>\n",
       "      <td>0</td>\n",
       "    </tr>\n",
       "    <tr>\n",
       "      <th>1</th>\n",
       "      <td>101141</td>\n",
       "      <td>1</td>\n",
       "      <td>117</td>\n",
       "      <td>33.0</td>\n",
       "      <td>0</td>\n",
       "      <td>1</td>\n",
       "      <td>1</td>\n",
       "      <td>0</td>\n",
       "      <td>0</td>\n",
       "      <td>0</td>\n",
       "      <td>0</td>\n",
       "      <td>0</td>\n",
       "      <td>0</td>\n",
       "      <td>0</td>\n",
       "      <td>0</td>\n",
       "      <td>0</td>\n",
       "      <td>0</td>\n",
       "      <td>0</td>\n",
       "      <td>1</td>\n",
       "      <td>0</td>\n",
       "      <td>1</td>\n",
       "      <td>0</td>\n",
       "      <td>0</td>\n",
       "      <td>0</td>\n",
       "      <td>0</td>\n",
       "      <td>0</td>\n",
       "      <td>1</td>\n",
       "      <td>0</td>\n",
       "      <td>0</td>\n",
       "      <td>0</td>\n",
       "      <td>0</td>\n",
       "      <td>1</td>\n",
       "      <td>0</td>\n",
       "      <td>0</td>\n",
       "    </tr>\n",
       "    <tr>\n",
       "      <th>2</th>\n",
       "      <td>91945</td>\n",
       "      <td>0</td>\n",
       "      <td>123</td>\n",
       "      <td>32.0</td>\n",
       "      <td>1</td>\n",
       "      <td>1</td>\n",
       "      <td>0</td>\n",
       "      <td>0</td>\n",
       "      <td>0</td>\n",
       "      <td>0</td>\n",
       "      <td>0</td>\n",
       "      <td>0</td>\n",
       "      <td>0</td>\n",
       "      <td>0</td>\n",
       "      <td>0</td>\n",
       "      <td>0</td>\n",
       "      <td>0</td>\n",
       "      <td>0</td>\n",
       "      <td>1</td>\n",
       "      <td>0</td>\n",
       "      <td>1</td>\n",
       "      <td>0</td>\n",
       "      <td>0</td>\n",
       "      <td>0</td>\n",
       "      <td>0</td>\n",
       "      <td>0</td>\n",
       "      <td>1</td>\n",
       "      <td>0</td>\n",
       "      <td>0</td>\n",
       "      <td>0</td>\n",
       "      <td>0</td>\n",
       "      <td>1</td>\n",
       "      <td>0</td>\n",
       "      <td>0</td>\n",
       "    </tr>\n",
       "    <tr>\n",
       "      <th>3</th>\n",
       "      <td>86688</td>\n",
       "      <td>0</td>\n",
       "      <td>50</td>\n",
       "      <td>30.0</td>\n",
       "      <td>0</td>\n",
       "      <td>0</td>\n",
       "      <td>1</td>\n",
       "      <td>0</td>\n",
       "      <td>0</td>\n",
       "      <td>0</td>\n",
       "      <td>0</td>\n",
       "      <td>0</td>\n",
       "      <td>0</td>\n",
       "      <td>0</td>\n",
       "      <td>0</td>\n",
       "      <td>0</td>\n",
       "      <td>0</td>\n",
       "      <td>0</td>\n",
       "      <td>1</td>\n",
       "      <td>0</td>\n",
       "      <td>1</td>\n",
       "      <td>0</td>\n",
       "      <td>0</td>\n",
       "      <td>0</td>\n",
       "      <td>0</td>\n",
       "      <td>0</td>\n",
       "      <td>0</td>\n",
       "      <td>0</td>\n",
       "      <td>0</td>\n",
       "      <td>0</td>\n",
       "      <td>0</td>\n",
       "      <td>0</td>\n",
       "      <td>0</td>\n",
       "      <td>0</td>\n",
       "    </tr>\n",
       "    <tr>\n",
       "      <th>4</th>\n",
       "      <td>92771</td>\n",
       "      <td>1</td>\n",
       "      <td>95</td>\n",
       "      <td>29.0</td>\n",
       "      <td>1</td>\n",
       "      <td>0</td>\n",
       "      <td>1</td>\n",
       "      <td>0</td>\n",
       "      <td>0</td>\n",
       "      <td>0</td>\n",
       "      <td>0</td>\n",
       "      <td>0</td>\n",
       "      <td>0</td>\n",
       "      <td>0</td>\n",
       "      <td>0</td>\n",
       "      <td>0</td>\n",
       "      <td>0</td>\n",
       "      <td>0</td>\n",
       "      <td>1</td>\n",
       "      <td>0</td>\n",
       "      <td>0</td>\n",
       "      <td>0</td>\n",
       "      <td>0</td>\n",
       "      <td>1</td>\n",
       "      <td>0</td>\n",
       "      <td>0</td>\n",
       "      <td>0</td>\n",
       "      <td>0</td>\n",
       "      <td>1</td>\n",
       "      <td>0</td>\n",
       "      <td>0</td>\n",
       "      <td>0</td>\n",
       "      <td>0</td>\n",
       "      <td>1</td>\n",
       "    </tr>\n",
       "  </tbody>\n",
       "</table>\n",
       "</div>"
      ],
      "text/plain": [
       "   YearlyIncome  BikeBuyer  AveMonthSpend   Age  HomeOwnerFlag_1  Gender_M  \\\n",
       "0        137947          0             89  32.0                1         1   \n",
       "1        101141          1            117  33.0                0         1   \n",
       "2         91945          0            123  32.0                1         1   \n",
       "3         86688          0             50  30.0                0         0   \n",
       "4         92771          1             95  29.0                1         0   \n",
       "\n",
       "   MaritalStatus_S  CountryRegionName_Canada  CountryRegionName_France  \\\n",
       "0                0                         0                         0   \n",
       "1                1                         0                         0   \n",
       "2                0                         0                         0   \n",
       "3                1                         0                         0   \n",
       "4                1                         0                         0   \n",
       "\n",
       "   CountryRegionName_Germany  CountryRegionName_United Kingdom  \\\n",
       "0                          0                                 0   \n",
       "1                          0                                 0   \n",
       "2                          0                                 0   \n",
       "3                          0                                 0   \n",
       "4                          0                                 0   \n",
       "\n",
       "   CountryRegionName_United States  Education_Graduate Degree  \\\n",
       "0                                0                          0   \n",
       "1                                0                          0   \n",
       "2                                0                          0   \n",
       "3                                0                          0   \n",
       "4                                0                          0   \n",
       "\n",
       "   Education_High School  Education_Partial College  \\\n",
       "0                      0                          0   \n",
       "1                      0                          0   \n",
       "2                      0                          0   \n",
       "3                      0                          0   \n",
       "4                      0                          0   \n",
       "\n",
       "   Education_Partial High School  Occupation_Management  Occupation_Manual  \\\n",
       "0                              0                      0                  0   \n",
       "1                              0                      0                  0   \n",
       "2                              0                      0                  0   \n",
       "3                              0                      0                  0   \n",
       "4                              0                      0                  0   \n",
       "\n",
       "   Occupation_Professional  Occupation_Skilled Manual  NumberCarsOwned_1  \\\n",
       "0                        1                          0                  0   \n",
       "1                        1                          0                  1   \n",
       "2                        1                          0                  1   \n",
       "3                        1                          0                  1   \n",
       "4                        1                          0                  0   \n",
       "\n",
       "   NumberCarsOwned_2  NumberCarsOwned_3  NumberCarsOwned_4  \\\n",
       "0                  0                  0                  0   \n",
       "1                  0                  0                  0   \n",
       "2                  0                  0                  0   \n",
       "3                  0                  0                  0   \n",
       "4                  0                  0                  1   \n",
       "\n",
       "   NumberChildrenAtHome_1  NumberChildrenAtHome_2  NumberChildrenAtHome_3  \\\n",
       "0                       0                       0                       0   \n",
       "1                       0                       0                       1   \n",
       "2                       0                       0                       1   \n",
       "3                       0                       0                       0   \n",
       "4                       0                       0                       0   \n",
       "\n",
       "   NumberChildrenAtHome_4  NumberChildrenAtHome_5  TotalChildren_1  \\\n",
       "0                       0                       0                0   \n",
       "1                       0                       0                0   \n",
       "2                       0                       0                0   \n",
       "3                       0                       0                0   \n",
       "4                       0                       1                0   \n",
       "\n",
       "   TotalChildren_2  TotalChildren_3  TotalChildren_4  TotalChildren_5  \n",
       "0                1                0                0                0  \n",
       "1                0                1                0                0  \n",
       "2                0                1                0                0  \n",
       "3                0                0                0                0  \n",
       "4                0                0                0                1  "
      ]
     },
     "execution_count": 44,
     "metadata": {},
     "output_type": "execute_result"
    }
   ],
   "source": [
    "# Creating dummy variables\n",
    "dummy = pd.get_dummies(train[['HomeOwnerFlag','Gender', 'MaritalStatus', 'CountryRegionName', 'Education', 'Occupation', 'NumberCarsOwned','NumberChildrenAtHome', 'TotalChildren']],\n",
    "                      prefix=['HomeOwnerFlag','Gender', 'MaritalStatus', 'CountryRegionName', 'Education', 'Occupation', 'NumberCarsOwned', 'NumberChildrenAtHome','TotalChildren'],\n",
    "                      drop_first=True)\n",
    "# Join the dummy variables to the main dataframe\n",
    "train = pd.concat([train, dummy], axis=1)\n",
    "\n",
    "# Dropping original variable\n",
    "train = train.drop(['HomeOwnerFlag', 'dummy', 'Gender', 'MaritalStatus','CountryRegionName', 'Education', 'Occupation', 'NumberCarsOwned', 'NumberChildrenAtHome', 'TotalChildren'], axis = 1)\n",
    "\n",
    "print(\"No of rows and columns in train:\", train.shape)\n",
    "\n",
    "print(train.dtypes)\n",
    "train.head()"
   ]
  },
  {
   "cell_type": "markdown",
   "metadata": {},
   "source": [
    "## Creating X & y"
   ]
  },
  {
   "cell_type": "code",
   "execution_count": 45,
   "metadata": {},
   "outputs": [],
   "source": [
    "# Creating final training data for classification problem\n",
    "train = train.drop(['AveMonthSpend'], axis = 1)\n",
    "\n",
    "X = train.drop(['BikeBuyer'], axis = 1)\n",
    "y = train['BikeBuyer']"
   ]
  },
  {
   "cell_type": "markdown",
   "metadata": {},
   "source": [
    "#### Split the data"
   ]
  },
  {
   "cell_type": "code",
   "execution_count": 46,
   "metadata": {},
   "outputs": [],
   "source": [
    "from sklearn.model_selection import train_test_split\n",
    "SEED = 2000\n",
    "\n",
    "x_train, x_validation_and_test, y_train, y_validation_and_test = train_test_split(X, y, test_size= 0.3, random_state=SEED)\n",
    "x_validation, x_test, y_validation, y_test = train_test_split(x_validation_and_test, y_validation_and_test, test_size= 0.5, random_state=SEED)\n"
   ]
  },
  {
   "cell_type": "code",
   "execution_count": 47,
   "metadata": {},
   "outputs": [
    {
     "data": {
      "text/html": [
       "<div>\n",
       "<style scoped>\n",
       "    .dataframe tbody tr th:only-of-type {\n",
       "        vertical-align: middle;\n",
       "    }\n",
       "\n",
       "    .dataframe tbody tr th {\n",
       "        vertical-align: top;\n",
       "    }\n",
       "\n",
       "    .dataframe thead th {\n",
       "        text-align: right;\n",
       "    }\n",
       "</style>\n",
       "<table border=\"1\" class=\"dataframe\">\n",
       "  <thead>\n",
       "    <tr style=\"text-align: right;\">\n",
       "      <th></th>\n",
       "      <th>samplesize</th>\n",
       "      <th>Zero</th>\n",
       "      <th>One</th>\n",
       "    </tr>\n",
       "  </thead>\n",
       "  <tbody>\n",
       "    <tr>\n",
       "      <th>train</th>\n",
       "      <td>11482</td>\n",
       "      <td>66.800209</td>\n",
       "      <td>33.199791</td>\n",
       "    </tr>\n",
       "    <tr>\n",
       "      <th>validation</th>\n",
       "      <td>2461</td>\n",
       "      <td>67.696059</td>\n",
       "      <td>32.303941</td>\n",
       "    </tr>\n",
       "    <tr>\n",
       "      <th>test</th>\n",
       "      <td>2461</td>\n",
       "      <td>65.623730</td>\n",
       "      <td>34.376270</td>\n",
       "    </tr>\n",
       "  </tbody>\n",
       "</table>\n",
       "</div>"
      ],
      "text/plain": [
       "            samplesize       Zero        One\n",
       "train            11482  66.800209  33.199791\n",
       "validation        2461  67.696059  32.303941\n",
       "test              2461  65.623730  34.376270"
      ]
     },
     "execution_count": 47,
     "metadata": {},
     "output_type": "execute_result"
    }
   ],
   "source": [
    "train_size = len(x_train)\n",
    "train_zero = len(x_train[y_train == 0]) / (len(x_train)*1.)*100\n",
    "train_one = len(x_train[y_train == 1]) / (len(x_train)*1.)*100\n",
    "\n",
    "validation_size = len(x_validation)\n",
    "validation_zero = len(x_validation[y_validation == 0]) / (len(x_validation)*1.)*100\n",
    "validation_one = len(x_validation[y_validation == 1]) / (len(x_validation)*1.)*100\n",
    "\n",
    "test_size = len(x_test)\n",
    "test_zero = len(x_test[y_test == 0]) / (len(x_test)*1.)*100\n",
    "test_one = len(x_test[y_test == 1]) / (len(x_test)*1.)*100\n",
    "\n",
    "train_stats = (train_size, train_zero, train_one)\n",
    "validation_stats = (validation_size, validation_zero, validation_one)\n",
    "test_stats = (test_size, test_zero, test_one)\n",
    "\n",
    "data_types = ('train', 'validation', 'test')\n",
    "validation_summary_stats = pd.DataFrame([train_stats, validation_stats, test_stats])\n",
    "validation_summary_stats.columns = ['samplesize', 'Zero', 'One']\n",
    "validation_summary_stats.index = data_types\n",
    "validation_summary_stats"
   ]
  },
  {
   "cell_type": "markdown",
   "metadata": {},
   "source": [
    "### Feature Scaling"
   ]
  },
  {
   "cell_type": "code",
   "execution_count": 48,
   "metadata": {},
   "outputs": [
    {
     "name": "stderr",
     "output_type": "stream",
     "text": [
      "C:\\ProgramData\\Anaconda3\\lib\\site-packages\\ipykernel_launcher.py:5: SettingWithCopyWarning: \n",
      "A value is trying to be set on a copy of a slice from a DataFrame.\n",
      "Try using .loc[row_indexer,col_indexer] = value instead\n",
      "\n",
      "See the caveats in the documentation: http://pandas.pydata.org/pandas-docs/stable/indexing.html#indexing-view-versus-copy\n",
      "  \"\"\"\n",
      "C:\\ProgramData\\Anaconda3\\lib\\site-packages\\pandas\\core\\indexing.py:543: SettingWithCopyWarning: \n",
      "A value is trying to be set on a copy of a slice from a DataFrame.\n",
      "Try using .loc[row_indexer,col_indexer] = value instead\n",
      "\n",
      "See the caveats in the documentation: http://pandas.pydata.org/pandas-docs/stable/indexing.html#indexing-view-versus-copy\n",
      "  self.obj[item] = s\n",
      "C:\\ProgramData\\Anaconda3\\lib\\site-packages\\ipykernel_launcher.py:6: SettingWithCopyWarning: \n",
      "A value is trying to be set on a copy of a slice from a DataFrame.\n",
      "Try using .loc[row_indexer,col_indexer] = value instead\n",
      "\n",
      "See the caveats in the documentation: http://pandas.pydata.org/pandas-docs/stable/indexing.html#indexing-view-versus-copy\n",
      "  \n",
      "C:\\ProgramData\\Anaconda3\\lib\\site-packages\\pandas\\core\\indexing.py:543: SettingWithCopyWarning: \n",
      "A value is trying to be set on a copy of a slice from a DataFrame.\n",
      "Try using .loc[row_indexer,col_indexer] = value instead\n",
      "\n",
      "See the caveats in the documentation: http://pandas.pydata.org/pandas-docs/stable/indexing.html#indexing-view-versus-copy\n",
      "  self.obj[item] = s\n",
      "C:\\ProgramData\\Anaconda3\\lib\\site-packages\\ipykernel_launcher.py:7: SettingWithCopyWarning: \n",
      "A value is trying to be set on a copy of a slice from a DataFrame.\n",
      "Try using .loc[row_indexer,col_indexer] = value instead\n",
      "\n",
      "See the caveats in the documentation: http://pandas.pydata.org/pandas-docs/stable/indexing.html#indexing-view-versus-copy\n",
      "  import sys\n",
      "C:\\ProgramData\\Anaconda3\\lib\\site-packages\\pandas\\core\\indexing.py:543: SettingWithCopyWarning: \n",
      "A value is trying to be set on a copy of a slice from a DataFrame.\n",
      "Try using .loc[row_indexer,col_indexer] = value instead\n",
      "\n",
      "See the caveats in the documentation: http://pandas.pydata.org/pandas-docs/stable/indexing.html#indexing-view-versus-copy\n",
      "  self.obj[item] = s\n"
     ]
    },
    {
     "data": {
      "text/html": [
       "<div>\n",
       "<style scoped>\n",
       "    .dataframe tbody tr th:only-of-type {\n",
       "        vertical-align: middle;\n",
       "    }\n",
       "\n",
       "    .dataframe tbody tr th {\n",
       "        vertical-align: top;\n",
       "    }\n",
       "\n",
       "    .dataframe thead th {\n",
       "        text-align: right;\n",
       "    }\n",
       "</style>\n",
       "<table border=\"1\" class=\"dataframe\">\n",
       "  <thead>\n",
       "    <tr style=\"text-align: right;\">\n",
       "      <th></th>\n",
       "      <th>YearlyIncome</th>\n",
       "      <th>Age</th>\n",
       "      <th>HomeOwnerFlag_1</th>\n",
       "      <th>Gender_M</th>\n",
       "      <th>MaritalStatus_S</th>\n",
       "      <th>CountryRegionName_Canada</th>\n",
       "      <th>CountryRegionName_France</th>\n",
       "      <th>CountryRegionName_Germany</th>\n",
       "      <th>CountryRegionName_United Kingdom</th>\n",
       "      <th>CountryRegionName_United States</th>\n",
       "      <th>Education_Graduate Degree</th>\n",
       "      <th>Education_High School</th>\n",
       "      <th>Education_Partial College</th>\n",
       "      <th>Education_Partial High School</th>\n",
       "      <th>Occupation_Management</th>\n",
       "      <th>Occupation_Manual</th>\n",
       "      <th>Occupation_Professional</th>\n",
       "      <th>Occupation_Skilled Manual</th>\n",
       "      <th>NumberCarsOwned_1</th>\n",
       "      <th>NumberCarsOwned_2</th>\n",
       "      <th>NumberCarsOwned_3</th>\n",
       "      <th>NumberCarsOwned_4</th>\n",
       "      <th>NumberChildrenAtHome_1</th>\n",
       "      <th>NumberChildrenAtHome_2</th>\n",
       "      <th>NumberChildrenAtHome_3</th>\n",
       "      <th>NumberChildrenAtHome_4</th>\n",
       "      <th>NumberChildrenAtHome_5</th>\n",
       "      <th>TotalChildren_1</th>\n",
       "      <th>TotalChildren_2</th>\n",
       "      <th>TotalChildren_3</th>\n",
       "      <th>TotalChildren_4</th>\n",
       "      <th>TotalChildren_5</th>\n",
       "    </tr>\n",
       "  </thead>\n",
       "  <tbody>\n",
       "    <tr>\n",
       "      <th>1841</th>\n",
       "      <td>0.222907</td>\n",
       "      <td>0.086957</td>\n",
       "      <td>1</td>\n",
       "      <td>1</td>\n",
       "      <td>0</td>\n",
       "      <td>0</td>\n",
       "      <td>0</td>\n",
       "      <td>0</td>\n",
       "      <td>0</td>\n",
       "      <td>1</td>\n",
       "      <td>0</td>\n",
       "      <td>1</td>\n",
       "      <td>0</td>\n",
       "      <td>0</td>\n",
       "      <td>0</td>\n",
       "      <td>0</td>\n",
       "      <td>0</td>\n",
       "      <td>1</td>\n",
       "      <td>0</td>\n",
       "      <td>1</td>\n",
       "      <td>0</td>\n",
       "      <td>0</td>\n",
       "      <td>0</td>\n",
       "      <td>0</td>\n",
       "      <td>0</td>\n",
       "      <td>0</td>\n",
       "      <td>0</td>\n",
       "      <td>0</td>\n",
       "      <td>0</td>\n",
       "      <td>0</td>\n",
       "      <td>0</td>\n",
       "      <td>0</td>\n",
       "    </tr>\n",
       "    <tr>\n",
       "      <th>13044</th>\n",
       "      <td>0.073743</td>\n",
       "      <td>0.362319</td>\n",
       "      <td>0</td>\n",
       "      <td>1</td>\n",
       "      <td>1</td>\n",
       "      <td>0</td>\n",
       "      <td>1</td>\n",
       "      <td>0</td>\n",
       "      <td>0</td>\n",
       "      <td>0</td>\n",
       "      <td>0</td>\n",
       "      <td>0</td>\n",
       "      <td>1</td>\n",
       "      <td>0</td>\n",
       "      <td>0</td>\n",
       "      <td>1</td>\n",
       "      <td>0</td>\n",
       "      <td>0</td>\n",
       "      <td>0</td>\n",
       "      <td>0</td>\n",
       "      <td>0</td>\n",
       "      <td>0</td>\n",
       "      <td>0</td>\n",
       "      <td>0</td>\n",
       "      <td>0</td>\n",
       "      <td>0</td>\n",
       "      <td>0</td>\n",
       "      <td>0</td>\n",
       "      <td>1</td>\n",
       "      <td>0</td>\n",
       "      <td>0</td>\n",
       "      <td>0</td>\n",
       "    </tr>\n",
       "    <tr>\n",
       "      <th>13374</th>\n",
       "      <td>0.420053</td>\n",
       "      <td>0.362319</td>\n",
       "      <td>0</td>\n",
       "      <td>0</td>\n",
       "      <td>1</td>\n",
       "      <td>0</td>\n",
       "      <td>0</td>\n",
       "      <td>0</td>\n",
       "      <td>0</td>\n",
       "      <td>1</td>\n",
       "      <td>0</td>\n",
       "      <td>0</td>\n",
       "      <td>0</td>\n",
       "      <td>1</td>\n",
       "      <td>0</td>\n",
       "      <td>0</td>\n",
       "      <td>0</td>\n",
       "      <td>1</td>\n",
       "      <td>0</td>\n",
       "      <td>1</td>\n",
       "      <td>0</td>\n",
       "      <td>0</td>\n",
       "      <td>0</td>\n",
       "      <td>0</td>\n",
       "      <td>0</td>\n",
       "      <td>0</td>\n",
       "      <td>0</td>\n",
       "      <td>0</td>\n",
       "      <td>1</td>\n",
       "      <td>0</td>\n",
       "      <td>0</td>\n",
       "      <td>0</td>\n",
       "    </tr>\n",
       "    <tr>\n",
       "      <th>2646</th>\n",
       "      <td>0.019756</td>\n",
       "      <td>0.536232</td>\n",
       "      <td>0</td>\n",
       "      <td>0</td>\n",
       "      <td>0</td>\n",
       "      <td>0</td>\n",
       "      <td>0</td>\n",
       "      <td>0</td>\n",
       "      <td>0</td>\n",
       "      <td>0</td>\n",
       "      <td>0</td>\n",
       "      <td>1</td>\n",
       "      <td>0</td>\n",
       "      <td>0</td>\n",
       "      <td>0</td>\n",
       "      <td>0</td>\n",
       "      <td>0</td>\n",
       "      <td>1</td>\n",
       "      <td>0</td>\n",
       "      <td>0</td>\n",
       "      <td>1</td>\n",
       "      <td>0</td>\n",
       "      <td>0</td>\n",
       "      <td>0</td>\n",
       "      <td>0</td>\n",
       "      <td>0</td>\n",
       "      <td>0</td>\n",
       "      <td>0</td>\n",
       "      <td>0</td>\n",
       "      <td>0</td>\n",
       "      <td>0</td>\n",
       "      <td>1</td>\n",
       "    </tr>\n",
       "    <tr>\n",
       "      <th>6652</th>\n",
       "      <td>0.097573</td>\n",
       "      <td>0.086957</td>\n",
       "      <td>0</td>\n",
       "      <td>0</td>\n",
       "      <td>1</td>\n",
       "      <td>0</td>\n",
       "      <td>0</td>\n",
       "      <td>0</td>\n",
       "      <td>0</td>\n",
       "      <td>1</td>\n",
       "      <td>0</td>\n",
       "      <td>1</td>\n",
       "      <td>0</td>\n",
       "      <td>0</td>\n",
       "      <td>0</td>\n",
       "      <td>0</td>\n",
       "      <td>0</td>\n",
       "      <td>1</td>\n",
       "      <td>0</td>\n",
       "      <td>1</td>\n",
       "      <td>0</td>\n",
       "      <td>0</td>\n",
       "      <td>0</td>\n",
       "      <td>0</td>\n",
       "      <td>0</td>\n",
       "      <td>0</td>\n",
       "      <td>0</td>\n",
       "      <td>0</td>\n",
       "      <td>0</td>\n",
       "      <td>0</td>\n",
       "      <td>0</td>\n",
       "      <td>0</td>\n",
       "    </tr>\n",
       "  </tbody>\n",
       "</table>\n",
       "</div>"
      ],
      "text/plain": [
       "       YearlyIncome       Age  HomeOwnerFlag_1  Gender_M  MaritalStatus_S  \\\n",
       "1841       0.222907  0.086957                1         1                0   \n",
       "13044      0.073743  0.362319                0         1                1   \n",
       "13374      0.420053  0.362319                0         0                1   \n",
       "2646       0.019756  0.536232                0         0                0   \n",
       "6652       0.097573  0.086957                0         0                1   \n",
       "\n",
       "       CountryRegionName_Canada  CountryRegionName_France  \\\n",
       "1841                          0                         0   \n",
       "13044                         0                         1   \n",
       "13374                         0                         0   \n",
       "2646                          0                         0   \n",
       "6652                          0                         0   \n",
       "\n",
       "       CountryRegionName_Germany  CountryRegionName_United Kingdom  \\\n",
       "1841                           0                                 0   \n",
       "13044                          0                                 0   \n",
       "13374                          0                                 0   \n",
       "2646                           0                                 0   \n",
       "6652                           0                                 0   \n",
       "\n",
       "       CountryRegionName_United States  Education_Graduate Degree  \\\n",
       "1841                                 1                          0   \n",
       "13044                                0                          0   \n",
       "13374                                1                          0   \n",
       "2646                                 0                          0   \n",
       "6652                                 1                          0   \n",
       "\n",
       "       Education_High School  Education_Partial College  \\\n",
       "1841                       1                          0   \n",
       "13044                      0                          1   \n",
       "13374                      0                          0   \n",
       "2646                       1                          0   \n",
       "6652                       1                          0   \n",
       "\n",
       "       Education_Partial High School  Occupation_Management  \\\n",
       "1841                               0                      0   \n",
       "13044                              0                      0   \n",
       "13374                              1                      0   \n",
       "2646                               0                      0   \n",
       "6652                               0                      0   \n",
       "\n",
       "       Occupation_Manual  Occupation_Professional  Occupation_Skilled Manual  \\\n",
       "1841                   0                        0                          1   \n",
       "13044                  1                        0                          0   \n",
       "13374                  0                        0                          1   \n",
       "2646                   0                        0                          1   \n",
       "6652                   0                        0                          1   \n",
       "\n",
       "       NumberCarsOwned_1  NumberCarsOwned_2  NumberCarsOwned_3  \\\n",
       "1841                   0                  1                  0   \n",
       "13044                  0                  0                  0   \n",
       "13374                  0                  1                  0   \n",
       "2646                   0                  0                  1   \n",
       "6652                   0                  1                  0   \n",
       "\n",
       "       NumberCarsOwned_4  NumberChildrenAtHome_1  NumberChildrenAtHome_2  \\\n",
       "1841                   0                       0                       0   \n",
       "13044                  0                       0                       0   \n",
       "13374                  0                       0                       0   \n",
       "2646                   0                       0                       0   \n",
       "6652                   0                       0                       0   \n",
       "\n",
       "       NumberChildrenAtHome_3  NumberChildrenAtHome_4  NumberChildrenAtHome_5  \\\n",
       "1841                        0                       0                       0   \n",
       "13044                       0                       0                       0   \n",
       "13374                       0                       0                       0   \n",
       "2646                        0                       0                       0   \n",
       "6652                        0                       0                       0   \n",
       "\n",
       "       TotalChildren_1  TotalChildren_2  TotalChildren_3  TotalChildren_4  \\\n",
       "1841                 0                0                0                0   \n",
       "13044                0                1                0                0   \n",
       "13374                0                1                0                0   \n",
       "2646                 0                0                0                0   \n",
       "6652                 0                0                0                0   \n",
       "\n",
       "       TotalChildren_5  \n",
       "1841                 0  \n",
       "13044                0  \n",
       "13374                0  \n",
       "2646                 1  \n",
       "6652                 0  "
      ]
     },
     "execution_count": 48,
     "metadata": {},
     "output_type": "execute_result"
    }
   ],
   "source": [
    "from sklearn.preprocessing import MinMaxScaler\n",
    "\n",
    "scaler = MinMaxScaler()\n",
    "\n",
    "x_train[['YearlyIncome', 'Age']] = scaler.fit_transform(x_train[['YearlyIncome', 'Age']])\n",
    "x_validation[['YearlyIncome', 'Age']] = scaler.transform(x_validation[['YearlyIncome', 'Age']])\n",
    "x_test[['YearlyIncome', 'Age']] = scaler.transform(x_test[['YearlyIncome', 'Age']])\n",
    "\n",
    "x_train.head()"
   ]
  },
  {
   "cell_type": "markdown",
   "metadata": {},
   "source": [
    "### Checking various Machine Learning models"
   ]
  },
  {
   "cell_type": "code",
   "execution_count": 49,
   "metadata": {},
   "outputs": [
    {
     "data": {
      "text/plain": [
       "array([0.74850065, 1.50603358])"
      ]
     },
     "execution_count": 49,
     "metadata": {},
     "output_type": "execute_result"
    }
   ],
   "source": [
    "from sklearn.utils import class_weight\n",
    "class_weight = class_weight.compute_class_weight('balanced'\n",
    "                                               ,np.unique(y_train)\n",
    "                                               ,y_train)\n",
    "\n",
    "class_weight"
   ]
  },
  {
   "cell_type": "code",
   "execution_count": 50,
   "metadata": {},
   "outputs": [],
   "source": [
    "from sklearn.svm import LinearSVC, SVC\n",
    "from sklearn.naive_bayes import BernoulliNB, GaussianNB\n",
    "from sklearn.linear_model import LogisticRegression, SGDClassifier, RidgeClassifier, PassiveAggressiveClassifier, Perceptron\n",
    "from sklearn.discriminant_analysis import LinearDiscriminantAnalysis\n",
    "from sklearn.neighbors import KNeighborsClassifier, NearestCentroid\n",
    "from sklearn.tree import DecisionTreeClassifier\n",
    "from sklearn.ensemble import AdaBoostClassifier, RandomForestClassifier, GradientBoostingClassifier \n",
    "from xgboost import XGBClassifier\n",
    "from sklearn.feature_selection import SelectFromModel\n",
    "from sklearn.pipeline import Pipeline\n",
    "from time import time\n",
    "from sklearn.metrics import roc_auc_score, f1_score, classification_report"
   ]
  },
  {
   "cell_type": "code",
   "execution_count": 51,
   "metadata": {},
   "outputs": [],
   "source": [
    "def accuracy_summary(classifier, x_train, y_train, x_validation, y_validation):\n",
    "    t0 = time()\n",
    "    model = classifier.fit(x_train, y_train)\n",
    "    y_pred = model.predict(x_validation)\n",
    "    train_test_time = time() - t0\n",
    "    accuracy = roc_auc_score(y_validation, y_pred)\n",
    "    return accuracy, train_test_time"
   ]
  },
  {
   "cell_type": "code",
   "execution_count": 52,
   "metadata": {},
   "outputs": [],
   "source": [
    "seed = 123\n",
    "names = [\"Logistic Regression\", \"LinearDiscriminantAnalysis\", \"SGDClassifier\", \"Linear SVC\", \"LinearSVC with L1-based feature selection\",\n",
    "         \"Support Vector Machine with Gaussian kernel\",\"Gaussian NB\", \"Bernoulli NB\", \"Ridge Classifier\", \"Perceptron\",\"Passive-Aggresive\", \"KNeighborsClassifier\",\"NearestCentroid\",\n",
    "        \"DecisionTreeClassifier\",\"RandomForestClassifier\",\"AdaBoostClassifier\", \"GradientBoostingClassifier\", \"XGBClassifier\"]\n",
    "\n",
    "classifiers = [\n",
    "    LogisticRegression(penalty='l2', class_weight = 'balanced', random_state=seed,C=1),\n",
    "    LinearDiscriminantAnalysis(),\n",
    "    SGDClassifier(class_weight = 'balanced', random_state=seed),\n",
    "    LinearSVC(class_weight = 'balanced', random_state=seed),\n",
    "    Pipeline([\n",
    "  ('feature_selection', SelectFromModel(LinearSVC(penalty=\"l1\", dual=False))),\n",
    "  ('classification', LinearSVC(penalty=\"l2\", class_weight = 'balanced', random_state=seed))]),\n",
    "    SVC(random_state=seed, class_weight = 'balanced'),\n",
    "    GaussianNB(),\n",
    "    BernoulliNB(),\n",
    "    RidgeClassifier(class_weight = 'balanced', random_state=seed),\n",
    "    Perceptron(penalty='l2', class_weight = 'balanced', random_state=seed),\n",
    "    PassiveAggressiveClassifier(class_weight = 'balanced', random_state=seed),\n",
    "    KNeighborsClassifier(metric = 'jaccard'),\n",
    "    NearestCentroid(metric = 'jaccard'),\n",
    "    DecisionTreeClassifier(criterion = 'entropy', random_state = seed, class_weight = 'balanced'),\n",
    "    RandomForestClassifier(criterion = 'entropy', random_state = seed, class_weight = 'balanced'),\n",
    "    AdaBoostClassifier(random_state = seed),\n",
    "    GradientBoostingClassifier(random_state = seed),\n",
    "    XGBClassifier(random_state = seed)\n",
    "    ]\n",
    "\n",
    "zipped_clf = zip(names,classifiers)\n",
    "\n",
    "def classifier_comparator(classifier=zipped_clf):\n",
    "    result = []\n",
    "    for n,c in classifier:\n",
    "        checker_pipeline = Pipeline([\n",
    "            ('classifier', c)\n",
    "        ])\n",
    "        print(\"Validation result for {}\".format(n))\n",
    "        print (c)\n",
    "        clf_accuracy,tt_time = accuracy_summary(checker_pipeline, x_train, y_train, x_validation, y_validation)\n",
    "        result.append((n,clf_accuracy,tt_time))\n",
    "    return result"
   ]
  },
  {
   "cell_type": "code",
   "execution_count": 53,
   "metadata": {},
   "outputs": [
    {
     "name": "stdout",
     "output_type": "stream",
     "text": [
      "Validation result for Logistic Regression\n",
      "LogisticRegression(C=1, class_weight='balanced', dual=False, fit_intercept=True,\n",
      "                   intercept_scaling=1, l1_ratio=None, max_iter=100,\n",
      "                   multi_class='warn', n_jobs=None, penalty='l2',\n",
      "                   random_state=123, solver='warn', tol=0.0001, verbose=0,\n",
      "                   warm_start=False)\n"
     ]
    },
    {
     "name": "stderr",
     "output_type": "stream",
     "text": [
      "C:\\ProgramData\\Anaconda3\\lib\\site-packages\\sklearn\\linear_model\\logistic.py:432: FutureWarning: Default solver will be changed to 'lbfgs' in 0.22. Specify a solver to silence this warning.\n",
      "  FutureWarning)\n"
     ]
    },
    {
     "name": "stdout",
     "output_type": "stream",
     "text": [
      "Validation result for LinearDiscriminantAnalysis\n",
      "LinearDiscriminantAnalysis(n_components=None, priors=None, shrinkage=None,\n",
      "                           solver='svd', store_covariance=False, tol=0.0001)\n",
      "Validation result for SGDClassifier\n",
      "SGDClassifier(alpha=0.0001, average=False, class_weight='balanced',\n",
      "              early_stopping=False, epsilon=0.1, eta0=0.0, fit_intercept=True,\n",
      "              l1_ratio=0.15, learning_rate='optimal', loss='hinge',\n",
      "              max_iter=1000, n_iter_no_change=5, n_jobs=None, penalty='l2',\n",
      "              power_t=0.5, random_state=123, shuffle=True, tol=0.001,\n",
      "              validation_fraction=0.1, verbose=0, warm_start=False)\n",
      "Validation result for Linear SVC\n",
      "LinearSVC(C=1.0, class_weight='balanced', dual=True, fit_intercept=True,\n",
      "          intercept_scaling=1, loss='squared_hinge', max_iter=1000,\n",
      "          multi_class='ovr', penalty='l2', random_state=123, tol=0.0001,\n",
      "          verbose=0)\n",
      "Validation result for LinearSVC with L1-based feature selection\n",
      "Pipeline(memory=None,\n",
      "         steps=[('feature_selection',\n",
      "                 SelectFromModel(estimator=LinearSVC(C=1.0, class_weight=None,\n",
      "                                                     dual=False,\n",
      "                                                     fit_intercept=True,\n",
      "                                                     intercept_scaling=1,\n",
      "                                                     loss='squared_hinge',\n",
      "                                                     max_iter=1000,\n",
      "                                                     multi_class='ovr',\n",
      "                                                     penalty='l1',\n",
      "                                                     random_state=None,\n",
      "                                                     tol=0.0001, verbose=0),\n",
      "                                 max_features=None, norm_order=1, prefit=False,\n",
      "                                 threshold=None)),\n",
      "                ('classification',\n",
      "                 LinearSVC(C=1.0, class_weight='balanced', dual=True,\n",
      "                           fit_intercept=True, intercept_scaling=1,\n",
      "                           loss='squared_hinge', max_iter=1000,\n",
      "                           multi_class='ovr', penalty='l2', random_state=123,\n",
      "                           tol=0.0001, verbose=0))],\n",
      "         verbose=False)\n",
      "Validation result for Support Vector Machine with Gaussian kernel\n",
      "SVC(C=1.0, cache_size=200, class_weight='balanced', coef0=0.0,\n",
      "    decision_function_shape='ovr', degree=3, gamma='auto_deprecated',\n",
      "    kernel='rbf', max_iter=-1, probability=False, random_state=123,\n",
      "    shrinking=True, tol=0.001, verbose=False)\n"
     ]
    },
    {
     "name": "stderr",
     "output_type": "stream",
     "text": [
      "C:\\ProgramData\\Anaconda3\\lib\\site-packages\\sklearn\\svm\\base.py:193: FutureWarning: The default value of gamma will change from 'auto' to 'scale' in version 0.22 to account better for unscaled features. Set gamma explicitly to 'auto' or 'scale' to avoid this warning.\n",
      "  \"avoid this warning.\", FutureWarning)\n"
     ]
    },
    {
     "name": "stdout",
     "output_type": "stream",
     "text": [
      "Validation result for Gaussian NB\n",
      "GaussianNB(priors=None, var_smoothing=1e-09)\n",
      "Validation result for Bernoulli NB\n",
      "BernoulliNB(alpha=1.0, binarize=0.0, class_prior=None, fit_prior=True)\n",
      "Validation result for Ridge Classifier\n",
      "RidgeClassifier(alpha=1.0, class_weight='balanced', copy_X=True,\n",
      "                fit_intercept=True, max_iter=None, normalize=False,\n",
      "                random_state=123, solver='auto', tol=0.001)\n",
      "Validation result for Perceptron\n",
      "Perceptron(alpha=0.0001, class_weight='balanced', early_stopping=False,\n",
      "           eta0=1.0, fit_intercept=True, max_iter=1000, n_iter_no_change=5,\n",
      "           n_jobs=None, penalty='l2', random_state=123, shuffle=True, tol=0.001,\n",
      "           validation_fraction=0.1, verbose=0, warm_start=False)\n",
      "Validation result for Passive-Aggresive\n",
      "PassiveAggressiveClassifier(C=1.0, average=False, class_weight='balanced',\n",
      "                            early_stopping=False, fit_intercept=True,\n",
      "                            loss='hinge', max_iter=1000, n_iter_no_change=5,\n",
      "                            n_jobs=None, random_state=123, shuffle=True,\n",
      "                            tol=0.001, validation_fraction=0.1, verbose=0,\n",
      "                            warm_start=False)\n",
      "Validation result for KNeighborsClassifier\n",
      "KNeighborsClassifier(algorithm='auto', leaf_size=30, metric='jaccard',\n",
      "                     metric_params=None, n_jobs=None, n_neighbors=5, p=2,\n",
      "                     weights='uniform')\n",
      "Validation result for NearestCentroid\n",
      "NearestCentroid(metric='jaccard', shrink_threshold=None)\n",
      "Validation result for DecisionTreeClassifier\n",
      "DecisionTreeClassifier(class_weight='balanced', criterion='entropy',\n",
      "                       max_depth=None, max_features=None, max_leaf_nodes=None,\n",
      "                       min_impurity_decrease=0.0, min_impurity_split=None,\n",
      "                       min_samples_leaf=1, min_samples_split=2,\n",
      "                       min_weight_fraction_leaf=0.0, presort=False,\n",
      "                       random_state=123, splitter='best')\n"
     ]
    },
    {
     "name": "stderr",
     "output_type": "stream",
     "text": [
      "C:\\ProgramData\\Anaconda3\\lib\\site-packages\\sklearn\\neighbors\\nearest_centroid.py:141: UserWarning: Averaging for metrics other than euclidean and manhattan not supported. The average is set to be the mean.\n",
      "  warnings.warn(\"Averaging for metrics other than \"\n",
      "C:\\ProgramData\\Anaconda3\\lib\\site-packages\\sklearn\\neighbors\\nearest_centroid.py:141: UserWarning: Averaging for metrics other than euclidean and manhattan not supported. The average is set to be the mean.\n",
      "  warnings.warn(\"Averaging for metrics other than \"\n",
      "C:\\ProgramData\\Anaconda3\\lib\\site-packages\\sklearn\\metrics\\pairwise.py:1575: DataConversionWarning: Data was converted to boolean for metric jaccard\n",
      "  warnings.warn(msg, DataConversionWarning)\n"
     ]
    },
    {
     "name": "stdout",
     "output_type": "stream",
     "text": [
      "Validation result for RandomForestClassifier\n",
      "RandomForestClassifier(bootstrap=True, class_weight='balanced',\n",
      "                       criterion='entropy', max_depth=None, max_features='auto',\n",
      "                       max_leaf_nodes=None, min_impurity_decrease=0.0,\n",
      "                       min_impurity_split=None, min_samples_leaf=1,\n",
      "                       min_samples_split=2, min_weight_fraction_leaf=0.0,\n",
      "                       n_estimators='warn', n_jobs=None, oob_score=False,\n",
      "                       random_state=123, verbose=0, warm_start=False)\n"
     ]
    },
    {
     "name": "stderr",
     "output_type": "stream",
     "text": [
      "C:\\ProgramData\\Anaconda3\\lib\\site-packages\\sklearn\\ensemble\\forest.py:245: FutureWarning: The default value of n_estimators will change from 10 in version 0.20 to 100 in 0.22.\n",
      "  \"10 in version 0.20 to 100 in 0.22.\", FutureWarning)\n"
     ]
    },
    {
     "name": "stdout",
     "output_type": "stream",
     "text": [
      "Validation result for AdaBoostClassifier\n",
      "AdaBoostClassifier(algorithm='SAMME.R', base_estimator=None, learning_rate=1.0,\n",
      "                   n_estimators=50, random_state=123)\n",
      "Validation result for GradientBoostingClassifier\n",
      "GradientBoostingClassifier(criterion='friedman_mse', init=None,\n",
      "                           learning_rate=0.1, loss='deviance', max_depth=3,\n",
      "                           max_features=None, max_leaf_nodes=None,\n",
      "                           min_impurity_decrease=0.0, min_impurity_split=None,\n",
      "                           min_samples_leaf=1, min_samples_split=2,\n",
      "                           min_weight_fraction_leaf=0.0, n_estimators=100,\n",
      "                           n_iter_no_change=None, presort='auto',\n",
      "                           random_state=123, subsample=1.0, tol=0.0001,\n",
      "                           validation_fraction=0.1, verbose=0,\n",
      "                           warm_start=False)\n",
      "Validation result for XGBClassifier\n",
      "XGBClassifier(base_score=0.5, booster='gbtree', colsample_bylevel=1,\n",
      "              colsample_bytree=1, gamma=0, learning_rate=0.1, max_delta_step=0,\n",
      "              max_depth=3, min_child_weight=1, missing=None, n_estimators=100,\n",
      "              n_jobs=1, nthread=None, objective='binary:logistic',\n",
      "              random_state=123, reg_alpha=0, reg_lambda=1, scale_pos_weight=1,\n",
      "              seed=None, silent=True, subsample=1)\n"
     ]
    },
    {
     "data": {
      "text/plain": [
       "[('Logistic Regression', 0.7438005390835578, 0.4498155117034912),\n",
       " ('LinearDiscriminantAnalysis', 0.7141014896524647, 1.254291296005249),\n",
       " ('SGDClassifier', 0.7444053092935288, 0.19687962532043457),\n",
       " ('Linear SVC', 0.7480728140312728, 0.595634937286377),\n",
       " ('LinearSVC with L1-based feature selection',\n",
       "  0.7480728140312728,\n",
       "  0.781524658203125),\n",
       " ('Support Vector Machine with Gaussian kernel',\n",
       "  0.7524598518652743,\n",
       "  14.115362405776978),\n",
       " ('Gaussian NB', 0.6877615197022204, 1.4238708019256592),\n",
       " ('Bernoulli NB', 0.6813132800289927, 0.11234116554260254),\n",
       " ('Ridge Classifier', 0.7485582912410246, 0.9350919723510742),\n",
       " ('Perceptron', 0.6339094128217324, 0.04996800422668457),\n",
       " ('Passive-Aggresive', 0.6660207479218102, 0.04097461700439453),\n",
       " ('KNeighborsClassifier', 0.7070884957756687, 8.037083625793457),\n",
       " ('NearestCentroid', 0.5, 0.16519904136657715),\n",
       " ('DecisionTreeClassifier', 0.671129206399541, 0.26209449768066406),\n",
       " ('RandomForestClassifier', 0.6893195013854598, 0.3239152431488037),\n",
       " ('AdaBoostClassifier', 0.7444204096733034, 1.0006482601165771),\n",
       " ('GradientBoostingClassifier', 0.7392013409137239, 2.344038963317871),\n",
       " ('XGBClassifier', 0.7387864579794181, 1.6126651763916016)]"
      ]
     },
     "execution_count": 53,
     "metadata": {},
     "output_type": "execute_result"
    }
   ],
   "source": [
    "classifier_result = classifier_comparator()\n",
    "classifier_result"
   ]
  },
  {
   "cell_type": "code",
   "execution_count": 54,
   "metadata": {},
   "outputs": [
    {
     "data": {
      "text/html": [
       "<div>\n",
       "<style scoped>\n",
       "    .dataframe tbody tr th:only-of-type {\n",
       "        vertical-align: middle;\n",
       "    }\n",
       "\n",
       "    .dataframe tbody tr th {\n",
       "        vertical-align: top;\n",
       "    }\n",
       "\n",
       "    .dataframe thead th {\n",
       "        text-align: right;\n",
       "    }\n",
       "</style>\n",
       "<table border=\"1\" class=\"dataframe\">\n",
       "  <thead>\n",
       "    <tr style=\"text-align: right;\">\n",
       "      <th></th>\n",
       "      <th>Classifier</th>\n",
       "      <th>AUC Score</th>\n",
       "      <th>Train and test time</th>\n",
       "    </tr>\n",
       "  </thead>\n",
       "  <tbody>\n",
       "    <tr>\n",
       "      <th>5</th>\n",
       "      <td>Support Vector Machine with Gaussian kernel</td>\n",
       "      <td>0.752460</td>\n",
       "      <td>14.115362</td>\n",
       "    </tr>\n",
       "    <tr>\n",
       "      <th>8</th>\n",
       "      <td>Ridge Classifier</td>\n",
       "      <td>0.748558</td>\n",
       "      <td>0.935092</td>\n",
       "    </tr>\n",
       "    <tr>\n",
       "      <th>3</th>\n",
       "      <td>Linear SVC</td>\n",
       "      <td>0.748073</td>\n",
       "      <td>0.595635</td>\n",
       "    </tr>\n",
       "    <tr>\n",
       "      <th>4</th>\n",
       "      <td>LinearSVC with L1-based feature selection</td>\n",
       "      <td>0.748073</td>\n",
       "      <td>0.781525</td>\n",
       "    </tr>\n",
       "    <tr>\n",
       "      <th>15</th>\n",
       "      <td>AdaBoostClassifier</td>\n",
       "      <td>0.744420</td>\n",
       "      <td>1.000648</td>\n",
       "    </tr>\n",
       "    <tr>\n",
       "      <th>2</th>\n",
       "      <td>SGDClassifier</td>\n",
       "      <td>0.744405</td>\n",
       "      <td>0.196880</td>\n",
       "    </tr>\n",
       "    <tr>\n",
       "      <th>0</th>\n",
       "      <td>Logistic Regression</td>\n",
       "      <td>0.743801</td>\n",
       "      <td>0.449816</td>\n",
       "    </tr>\n",
       "    <tr>\n",
       "      <th>16</th>\n",
       "      <td>GradientBoostingClassifier</td>\n",
       "      <td>0.739201</td>\n",
       "      <td>2.344039</td>\n",
       "    </tr>\n",
       "    <tr>\n",
       "      <th>17</th>\n",
       "      <td>XGBClassifier</td>\n",
       "      <td>0.738786</td>\n",
       "      <td>1.612665</td>\n",
       "    </tr>\n",
       "    <tr>\n",
       "      <th>1</th>\n",
       "      <td>LinearDiscriminantAnalysis</td>\n",
       "      <td>0.714101</td>\n",
       "      <td>1.254291</td>\n",
       "    </tr>\n",
       "    <tr>\n",
       "      <th>11</th>\n",
       "      <td>KNeighborsClassifier</td>\n",
       "      <td>0.707088</td>\n",
       "      <td>8.037084</td>\n",
       "    </tr>\n",
       "    <tr>\n",
       "      <th>14</th>\n",
       "      <td>RandomForestClassifier</td>\n",
       "      <td>0.689320</td>\n",
       "      <td>0.323915</td>\n",
       "    </tr>\n",
       "    <tr>\n",
       "      <th>6</th>\n",
       "      <td>Gaussian NB</td>\n",
       "      <td>0.687762</td>\n",
       "      <td>1.423871</td>\n",
       "    </tr>\n",
       "    <tr>\n",
       "      <th>7</th>\n",
       "      <td>Bernoulli NB</td>\n",
       "      <td>0.681313</td>\n",
       "      <td>0.112341</td>\n",
       "    </tr>\n",
       "    <tr>\n",
       "      <th>13</th>\n",
       "      <td>DecisionTreeClassifier</td>\n",
       "      <td>0.671129</td>\n",
       "      <td>0.262094</td>\n",
       "    </tr>\n",
       "    <tr>\n",
       "      <th>10</th>\n",
       "      <td>Passive-Aggresive</td>\n",
       "      <td>0.666021</td>\n",
       "      <td>0.040975</td>\n",
       "    </tr>\n",
       "    <tr>\n",
       "      <th>9</th>\n",
       "      <td>Perceptron</td>\n",
       "      <td>0.633909</td>\n",
       "      <td>0.049968</td>\n",
       "    </tr>\n",
       "    <tr>\n",
       "      <th>12</th>\n",
       "      <td>NearestCentroid</td>\n",
       "      <td>0.500000</td>\n",
       "      <td>0.165199</td>\n",
       "    </tr>\n",
       "  </tbody>\n",
       "</table>\n",
       "</div>"
      ],
      "text/plain": [
       "                                     Classifier  AUC Score  \\\n",
       "5   Support Vector Machine with Gaussian kernel   0.752460   \n",
       "8                              Ridge Classifier   0.748558   \n",
       "3                                    Linear SVC   0.748073   \n",
       "4     LinearSVC with L1-based feature selection   0.748073   \n",
       "15                           AdaBoostClassifier   0.744420   \n",
       "2                                 SGDClassifier   0.744405   \n",
       "0                           Logistic Regression   0.743801   \n",
       "16                   GradientBoostingClassifier   0.739201   \n",
       "17                                XGBClassifier   0.738786   \n",
       "1                    LinearDiscriminantAnalysis   0.714101   \n",
       "11                         KNeighborsClassifier   0.707088   \n",
       "14                       RandomForestClassifier   0.689320   \n",
       "6                                   Gaussian NB   0.687762   \n",
       "7                                  Bernoulli NB   0.681313   \n",
       "13                       DecisionTreeClassifier   0.671129   \n",
       "10                            Passive-Aggresive   0.666021   \n",
       "9                                    Perceptron   0.633909   \n",
       "12                              NearestCentroid   0.500000   \n",
       "\n",
       "    Train and test time  \n",
       "5             14.115362  \n",
       "8              0.935092  \n",
       "3              0.595635  \n",
       "4              0.781525  \n",
       "15             1.000648  \n",
       "2              0.196880  \n",
       "0              0.449816  \n",
       "16             2.344039  \n",
       "17             1.612665  \n",
       "1              1.254291  \n",
       "11             8.037084  \n",
       "14             0.323915  \n",
       "6              1.423871  \n",
       "7              0.112341  \n",
       "13             0.262094  \n",
       "10             0.040975  \n",
       "9              0.049968  \n",
       "12             0.165199  "
      ]
     },
     "execution_count": 54,
     "metadata": {},
     "output_type": "execute_result"
    }
   ],
   "source": [
    "classifier_result_df = pd.DataFrame(classifier_result)\n",
    "classifier_result_df.columns = ['Classifier', 'AUC Score', 'Train and test time']\n",
    "classifier_result_df.sort_values(by='AUC Score', ascending=False)"
   ]
  },
  {
   "cell_type": "code",
   "execution_count": 67,
   "metadata": {},
   "outputs": [
    {
     "name": "stdout",
     "output_type": "stream",
     "text": [
      "              precision    recall  f1-score   support\n",
      "\n",
      "           0       0.86      0.80      0.83      1666\n",
      "           1       0.63      0.73      0.68       795\n",
      "\n",
      "    accuracy                           0.78      2461\n",
      "   macro avg       0.75      0.76      0.75      2461\n",
      "weighted avg       0.79      0.78      0.78      2461\n",
      "\n",
      "F1 Score for hold-out sample data: 75.35\n",
      "AUC Score for hold-out sample data: 76.46\n"
     ]
    }
   ],
   "source": [
    "seed = 786\n",
    "clf = SVC(C = 50.0, gamma = 'auto', random_state=seed, class_weight = 'balanced')\n",
    "clf = clf.fit(x_train, y_train)\n",
    "\n",
    "y_predict = clf.predict(x_validation)\n",
    "\n",
    "from sklearn.metrics import roc_auc_score, f1_score, classification_report\n",
    "F1_scores_holdout = f1_score(y_validation, y_predict, average=\"macro\")\n",
    "AUC_scores_holdout = roc_auc_score(y_validation, y_predict)\n",
    "print(classification_report(y_validation, y_predict))\n",
    "print(\"F1 Score for hold-out sample data:\", round(F1_scores_holdout*100,2))\n",
    "print(\"AUC Score for hold-out sample data:\", round(AUC_scores_holdout*100,2))"
   ]
  },
  {
   "cell_type": "markdown",
   "metadata": {},
   "source": [
    "## Final validation accuracy"
   ]
  },
  {
   "cell_type": "code",
   "execution_count": 68,
   "metadata": {},
   "outputs": [
    {
     "name": "stdout",
     "output_type": "stream",
     "text": [
      "              precision    recall  f1-score   support\n",
      "\n",
      "           0       0.85      0.76      0.80      1615\n",
      "           1       0.62      0.75      0.68       846\n",
      "\n",
      "    accuracy                           0.75      2461\n",
      "   macro avg       0.73      0.75      0.74      2461\n",
      "weighted avg       0.77      0.75      0.76      2461\n",
      "\n",
      "F1 Score for hold-out sample data: 73.91\n",
      "AUC Score for hold-out sample data: 75.25\n"
     ]
    }
   ],
   "source": [
    "y_predict = clf.predict(x_test)\n",
    "\n",
    "from sklearn.metrics import roc_auc_score, f1_score, classification_report\n",
    "F1_scores_holdout = f1_score(y_test, y_predict, average=\"macro\")\n",
    "AUC_scores_holdout = roc_auc_score(y_test, y_predict)\n",
    "print(classification_report(y_test, y_predict))\n",
    "print(\"F1 Score for hold-out sample data:\", round(F1_scores_holdout*100,2))\n",
    "print(\"AUC Score for hold-out sample data:\", round(AUC_scores_holdout*100,2))"
   ]
  },
  {
   "cell_type": "code",
   "execution_count": 84,
   "metadata": {},
   "outputs": [
    {
     "name": "stdout",
     "output_type": "stream",
     "text": [
      "Accuracy Score for hold-out sample data: 75.42\n"
     ]
    }
   ],
   "source": [
    "from sklearn.metrics import accuracy_score\n",
    "Accuracy = accuracy_score(y_test, y_predict)\n",
    "print(\"Accuracy Score for hold-out sample data:\", round(Accuracy*100,2))"
   ]
  },
  {
   "cell_type": "code",
   "execution_count": 85,
   "metadata": {},
   "outputs": [
    {
     "data": {
      "text/plain": [
       "array([[1224,  391],\n",
       "       [ 214,  632]], dtype=int64)"
      ]
     },
     "execution_count": 85,
     "metadata": {},
     "output_type": "execute_result"
    }
   ],
   "source": [
    "from sklearn.metrics import confusion_matrix\n",
    "confusion_matrix(y_test, y_predict)"
   ]
  },
  {
   "cell_type": "markdown",
   "metadata": {},
   "source": [
    "# Prediction for Test data"
   ]
  },
  {
   "cell_type": "code",
   "execution_count": 77,
   "metadata": {},
   "outputs": [
    {
     "name": "stdout",
     "output_type": "stream",
     "text": [
      "File Name                                             Modified             Size\n",
      "AW_test.csv                                    2018-06-25 13:01:50        76923\n",
      "Extracting all the files now...\n",
      "Done!\n"
     ]
    }
   ],
   "source": [
    "# specifying the zip file name \n",
    "file_name = \"FinalExam-Test.zip\"\n",
    "  \n",
    "# opening the zip file in READ mode \n",
    "with ZipFile(file_name, 'r') as zipfile_test: \n",
    "    # printing all the contents of the zip file \n",
    "    zipfile_test.printdir() \n",
    "  \n",
    "    # extracting all the files \n",
    "    print('Extracting all the files now...') \n",
    "    zipfile_test.extractall() \n",
    "    print('Done!')"
   ]
  },
  {
   "cell_type": "code",
   "execution_count": 78,
   "metadata": {},
   "outputs": [],
   "source": [
    "# Reading the file\n",
    "AW_test = pd.read_csv(\"AW_test.csv\")"
   ]
  },
  {
   "cell_type": "code",
   "execution_count": 79,
   "metadata": {},
   "outputs": [
    {
     "name": "stdout",
     "output_type": "stream",
     "text": [
      "Duplicate unique id in AW_test: 0\n"
     ]
    }
   ],
   "source": [
    "# Duplicate records\n",
    "print(\"Duplicate unique id in AW_test:\", len(AW_test.CustomerID) - len(AW_test.CustomerID.unique()))"
   ]
  },
  {
   "cell_type": "code",
   "execution_count": 80,
   "metadata": {},
   "outputs": [
    {
     "name": "stdout",
     "output_type": "stream",
     "text": [
      "No of rows and columns in test before dropping: (500, 23)\n",
      "No of rows and columns in train: (500, 11)\n"
     ]
    }
   ],
   "source": [
    "print(\"No of rows and columns in test before dropping:\", AW_test.shape)\n",
    "test = AW_test.drop(['CustomerID','Title','MiddleName','Suffix','AddressLine1', 'AddressLine2', 'FirstName','LastName','City',\n",
    "                      'StateProvinceName','PostalCode','PhoneNumber'],axis = 1)\n",
    "print(\"No of rows and columns in train:\", test.shape)"
   ]
  },
  {
   "cell_type": "code",
   "execution_count": 81,
   "metadata": {},
   "outputs": [
    {
     "data": {
      "text/plain": [
       "CountryRegionName       0\n",
       "BirthDate               0\n",
       "Education               0\n",
       "Occupation              0\n",
       "Gender                  0\n",
       "MaritalStatus           0\n",
       "HomeOwnerFlag           0\n",
       "NumberCarsOwned         0\n",
       "NumberChildrenAtHome    0\n",
       "TotalChildren           0\n",
       "YearlyIncome            0\n",
       "dtype: int64"
      ]
     },
     "execution_count": 81,
     "metadata": {},
     "output_type": "execute_result"
    }
   ],
   "source": [
    "test.isnull().sum()"
   ]
  },
  {
   "cell_type": "code",
   "execution_count": 82,
   "metadata": {},
   "outputs": [
    {
     "data": {
      "text/html": [
       "<div>\n",
       "<style scoped>\n",
       "    .dataframe tbody tr th:only-of-type {\n",
       "        vertical-align: middle;\n",
       "    }\n",
       "\n",
       "    .dataframe tbody tr th {\n",
       "        vertical-align: top;\n",
       "    }\n",
       "\n",
       "    .dataframe thead th {\n",
       "        text-align: right;\n",
       "    }\n",
       "</style>\n",
       "<table border=\"1\" class=\"dataframe\">\n",
       "  <thead>\n",
       "    <tr style=\"text-align: right;\">\n",
       "      <th></th>\n",
       "      <th>CountryRegionName</th>\n",
       "      <th>Education</th>\n",
       "      <th>Occupation</th>\n",
       "      <th>Gender</th>\n",
       "      <th>MaritalStatus</th>\n",
       "      <th>HomeOwnerFlag</th>\n",
       "      <th>NumberCarsOwned</th>\n",
       "      <th>NumberChildrenAtHome</th>\n",
       "      <th>TotalChildren</th>\n",
       "      <th>YearlyIncome</th>\n",
       "      <th>Age</th>\n",
       "    </tr>\n",
       "  </thead>\n",
       "  <tbody>\n",
       "    <tr>\n",
       "      <th>0</th>\n",
       "      <td>United States</td>\n",
       "      <td>Bachelors</td>\n",
       "      <td>Management</td>\n",
       "      <td>F</td>\n",
       "      <td>S</td>\n",
       "      <td>0</td>\n",
       "      <td>2</td>\n",
       "      <td>0</td>\n",
       "      <td>5</td>\n",
       "      <td>86931</td>\n",
       "      <td>53.0</td>\n",
       "    </tr>\n",
       "    <tr>\n",
       "      <th>1</th>\n",
       "      <td>Canada</td>\n",
       "      <td>Bachelors</td>\n",
       "      <td>Skilled Manual</td>\n",
       "      <td>M</td>\n",
       "      <td>M</td>\n",
       "      <td>1</td>\n",
       "      <td>2</td>\n",
       "      <td>2</td>\n",
       "      <td>4</td>\n",
       "      <td>100125</td>\n",
       "      <td>33.0</td>\n",
       "    </tr>\n",
       "    <tr>\n",
       "      <th>2</th>\n",
       "      <td>United States</td>\n",
       "      <td>Graduate Degree</td>\n",
       "      <td>Management</td>\n",
       "      <td>F</td>\n",
       "      <td>M</td>\n",
       "      <td>1</td>\n",
       "      <td>2</td>\n",
       "      <td>0</td>\n",
       "      <td>4</td>\n",
       "      <td>103985</td>\n",
       "      <td>64.0</td>\n",
       "    </tr>\n",
       "    <tr>\n",
       "      <th>3</th>\n",
       "      <td>United States</td>\n",
       "      <td>Graduate Degree</td>\n",
       "      <td>Skilled Manual</td>\n",
       "      <td>M</td>\n",
       "      <td>M</td>\n",
       "      <td>1</td>\n",
       "      <td>0</td>\n",
       "      <td>0</td>\n",
       "      <td>4</td>\n",
       "      <td>127161</td>\n",
       "      <td>39.0</td>\n",
       "    </tr>\n",
       "    <tr>\n",
       "      <th>4</th>\n",
       "      <td>France</td>\n",
       "      <td>High School</td>\n",
       "      <td>Manual</td>\n",
       "      <td>F</td>\n",
       "      <td>M</td>\n",
       "      <td>1</td>\n",
       "      <td>1</td>\n",
       "      <td>2</td>\n",
       "      <td>2</td>\n",
       "      <td>21876</td>\n",
       "      <td>33.0</td>\n",
       "    </tr>\n",
       "  </tbody>\n",
       "</table>\n",
       "</div>"
      ],
      "text/plain": [
       "  CountryRegionName        Education      Occupation Gender MaritalStatus  \\\n",
       "0     United States       Bachelors       Management      F             S   \n",
       "1            Canada       Bachelors   Skilled Manual      M             M   \n",
       "2     United States  Graduate Degree      Management      F             M   \n",
       "3     United States  Graduate Degree  Skilled Manual      M             M   \n",
       "4            France      High School          Manual      F             M   \n",
       "\n",
       "   HomeOwnerFlag  NumberCarsOwned  NumberChildrenAtHome  TotalChildren  \\\n",
       "0              0                2                     0              5   \n",
       "1              1                2                     2              4   \n",
       "2              1                2                     0              4   \n",
       "3              1                0                     0              4   \n",
       "4              1                1                     2              2   \n",
       "\n",
       "   YearlyIncome   Age  \n",
       "0         86931  53.0  \n",
       "1        100125  33.0  \n",
       "2        103985  64.0  \n",
       "3        127161  39.0  \n",
       "4         21876  33.0  "
      ]
     },
     "execution_count": 82,
     "metadata": {},
     "output_type": "execute_result"
    }
   ],
   "source": [
    "# Creating New variable : Age\n",
    "test['BirthDate']= pd.to_datetime(test['BirthDate']) \n",
    "\n",
    "test['diff'] = pd.to_datetime('1998-01-01') - test['BirthDate']\n",
    "test['Age'] = test['diff'].apply(lambda x: float(x.days)/365.25)\n",
    "test = test.drop(['BirthDate', 'diff'], axis =1)\n",
    "\n",
    "decimals = 0    \n",
    "test['Age'] = test['Age'].apply(lambda x: round(x, decimals))\n",
    "\n",
    "test.head()"
   ]
  },
  {
   "cell_type": "code",
   "execution_count": 83,
   "metadata": {},
   "outputs": [
    {
     "name": "stdout",
     "output_type": "stream",
     "text": [
      "No of rows and columns in test: (500, 11)\n",
      "No of rows and columns in test: (500, 32)\n",
      "YearlyIncome                        float64\n",
      "Age                                 float64\n",
      "HomeOwnerFlag_1                       uint8\n",
      "Gender_M                              uint8\n",
      "MaritalStatus_S                       uint8\n",
      "CountryRegionName_Canada              uint8\n",
      "CountryRegionName_France              uint8\n",
      "CountryRegionName_Germany             uint8\n",
      "CountryRegionName_United Kingdom      uint8\n",
      "CountryRegionName_United States       uint8\n",
      "Education_Graduate Degree             uint8\n",
      "Education_High School                 uint8\n",
      "Education_Partial College             uint8\n",
      "Education_Partial High School         uint8\n",
      "Occupation_Management                 uint8\n",
      "Occupation_Manual                     uint8\n",
      "Occupation_Professional               uint8\n",
      "Occupation_Skilled Manual             uint8\n",
      "NumberCarsOwned_1                     uint8\n",
      "NumberCarsOwned_2                     uint8\n",
      "NumberCarsOwned_3                     uint8\n",
      "NumberCarsOwned_4                     uint8\n",
      "NumberChildrenAtHome_1                uint8\n",
      "NumberChildrenAtHome_2                uint8\n",
      "NumberChildrenAtHome_3                uint8\n",
      "NumberChildrenAtHome_4                uint8\n",
      "NumberChildrenAtHome_5                uint8\n",
      "TotalChildren_1                       uint8\n",
      "TotalChildren_2                       uint8\n",
      "TotalChildren_3                       uint8\n",
      "TotalChildren_4                       uint8\n",
      "TotalChildren_5                       uint8\n",
      "dtype: object\n"
     ]
    },
    {
     "data": {
      "text/html": [
       "<div>\n",
       "<style scoped>\n",
       "    .dataframe tbody tr th:only-of-type {\n",
       "        vertical-align: middle;\n",
       "    }\n",
       "\n",
       "    .dataframe tbody tr th {\n",
       "        vertical-align: top;\n",
       "    }\n",
       "\n",
       "    .dataframe thead th {\n",
       "        text-align: right;\n",
       "    }\n",
       "</style>\n",
       "<table border=\"1\" class=\"dataframe\">\n",
       "  <thead>\n",
       "    <tr style=\"text-align: right;\">\n",
       "      <th></th>\n",
       "      <th>YearlyIncome</th>\n",
       "      <th>Age</th>\n",
       "      <th>HomeOwnerFlag_1</th>\n",
       "      <th>Gender_M</th>\n",
       "      <th>MaritalStatus_S</th>\n",
       "      <th>CountryRegionName_Canada</th>\n",
       "      <th>CountryRegionName_France</th>\n",
       "      <th>CountryRegionName_Germany</th>\n",
       "      <th>CountryRegionName_United Kingdom</th>\n",
       "      <th>CountryRegionName_United States</th>\n",
       "      <th>Education_Graduate Degree</th>\n",
       "      <th>Education_High School</th>\n",
       "      <th>Education_Partial College</th>\n",
       "      <th>Education_Partial High School</th>\n",
       "      <th>Occupation_Management</th>\n",
       "      <th>Occupation_Manual</th>\n",
       "      <th>Occupation_Professional</th>\n",
       "      <th>Occupation_Skilled Manual</th>\n",
       "      <th>NumberCarsOwned_1</th>\n",
       "      <th>NumberCarsOwned_2</th>\n",
       "      <th>NumberCarsOwned_3</th>\n",
       "      <th>NumberCarsOwned_4</th>\n",
       "      <th>NumberChildrenAtHome_1</th>\n",
       "      <th>NumberChildrenAtHome_2</th>\n",
       "      <th>NumberChildrenAtHome_3</th>\n",
       "      <th>NumberChildrenAtHome_4</th>\n",
       "      <th>NumberChildrenAtHome_5</th>\n",
       "      <th>TotalChildren_1</th>\n",
       "      <th>TotalChildren_2</th>\n",
       "      <th>TotalChildren_3</th>\n",
       "      <th>TotalChildren_4</th>\n",
       "      <th>TotalChildren_5</th>\n",
       "    </tr>\n",
       "  </thead>\n",
       "  <tbody>\n",
       "    <tr>\n",
       "      <th>0</th>\n",
       "      <td>0.414102</td>\n",
       "      <td>0.521739</td>\n",
       "      <td>0</td>\n",
       "      <td>0</td>\n",
       "      <td>1</td>\n",
       "      <td>0</td>\n",
       "      <td>0</td>\n",
       "      <td>0</td>\n",
       "      <td>0</td>\n",
       "      <td>1</td>\n",
       "      <td>0</td>\n",
       "      <td>0</td>\n",
       "      <td>0</td>\n",
       "      <td>0</td>\n",
       "      <td>1</td>\n",
       "      <td>0</td>\n",
       "      <td>0</td>\n",
       "      <td>0</td>\n",
       "      <td>0</td>\n",
       "      <td>1</td>\n",
       "      <td>0</td>\n",
       "      <td>0</td>\n",
       "      <td>0</td>\n",
       "      <td>0</td>\n",
       "      <td>0</td>\n",
       "      <td>0</td>\n",
       "      <td>0</td>\n",
       "      <td>0</td>\n",
       "      <td>0</td>\n",
       "      <td>0</td>\n",
       "      <td>0</td>\n",
       "      <td>1</td>\n",
       "    </tr>\n",
       "    <tr>\n",
       "      <th>1</th>\n",
       "      <td>0.484647</td>\n",
       "      <td>0.231884</td>\n",
       "      <td>1</td>\n",
       "      <td>1</td>\n",
       "      <td>0</td>\n",
       "      <td>1</td>\n",
       "      <td>0</td>\n",
       "      <td>0</td>\n",
       "      <td>0</td>\n",
       "      <td>0</td>\n",
       "      <td>0</td>\n",
       "      <td>0</td>\n",
       "      <td>0</td>\n",
       "      <td>0</td>\n",
       "      <td>0</td>\n",
       "      <td>0</td>\n",
       "      <td>0</td>\n",
       "      <td>1</td>\n",
       "      <td>0</td>\n",
       "      <td>1</td>\n",
       "      <td>0</td>\n",
       "      <td>0</td>\n",
       "      <td>0</td>\n",
       "      <td>1</td>\n",
       "      <td>0</td>\n",
       "      <td>0</td>\n",
       "      <td>0</td>\n",
       "      <td>0</td>\n",
       "      <td>0</td>\n",
       "      <td>0</td>\n",
       "      <td>1</td>\n",
       "      <td>0</td>\n",
       "    </tr>\n",
       "    <tr>\n",
       "      <th>2</th>\n",
       "      <td>0.505285</td>\n",
       "      <td>0.681159</td>\n",
       "      <td>1</td>\n",
       "      <td>0</td>\n",
       "      <td>0</td>\n",
       "      <td>0</td>\n",
       "      <td>0</td>\n",
       "      <td>0</td>\n",
       "      <td>0</td>\n",
       "      <td>1</td>\n",
       "      <td>1</td>\n",
       "      <td>0</td>\n",
       "      <td>0</td>\n",
       "      <td>0</td>\n",
       "      <td>1</td>\n",
       "      <td>0</td>\n",
       "      <td>0</td>\n",
       "      <td>0</td>\n",
       "      <td>0</td>\n",
       "      <td>1</td>\n",
       "      <td>0</td>\n",
       "      <td>0</td>\n",
       "      <td>0</td>\n",
       "      <td>0</td>\n",
       "      <td>0</td>\n",
       "      <td>0</td>\n",
       "      <td>0</td>\n",
       "      <td>0</td>\n",
       "      <td>0</td>\n",
       "      <td>0</td>\n",
       "      <td>1</td>\n",
       "      <td>0</td>\n",
       "    </tr>\n",
       "    <tr>\n",
       "      <th>3</th>\n",
       "      <td>0.629202</td>\n",
       "      <td>0.318841</td>\n",
       "      <td>1</td>\n",
       "      <td>1</td>\n",
       "      <td>0</td>\n",
       "      <td>0</td>\n",
       "      <td>0</td>\n",
       "      <td>0</td>\n",
       "      <td>0</td>\n",
       "      <td>1</td>\n",
       "      <td>1</td>\n",
       "      <td>0</td>\n",
       "      <td>0</td>\n",
       "      <td>0</td>\n",
       "      <td>0</td>\n",
       "      <td>0</td>\n",
       "      <td>0</td>\n",
       "      <td>1</td>\n",
       "      <td>0</td>\n",
       "      <td>0</td>\n",
       "      <td>0</td>\n",
       "      <td>0</td>\n",
       "      <td>0</td>\n",
       "      <td>0</td>\n",
       "      <td>0</td>\n",
       "      <td>0</td>\n",
       "      <td>0</td>\n",
       "      <td>0</td>\n",
       "      <td>0</td>\n",
       "      <td>0</td>\n",
       "      <td>1</td>\n",
       "      <td>0</td>\n",
       "    </tr>\n",
       "    <tr>\n",
       "      <th>4</th>\n",
       "      <td>0.066268</td>\n",
       "      <td>0.231884</td>\n",
       "      <td>1</td>\n",
       "      <td>0</td>\n",
       "      <td>0</td>\n",
       "      <td>0</td>\n",
       "      <td>1</td>\n",
       "      <td>0</td>\n",
       "      <td>0</td>\n",
       "      <td>0</td>\n",
       "      <td>0</td>\n",
       "      <td>1</td>\n",
       "      <td>0</td>\n",
       "      <td>0</td>\n",
       "      <td>0</td>\n",
       "      <td>1</td>\n",
       "      <td>0</td>\n",
       "      <td>0</td>\n",
       "      <td>1</td>\n",
       "      <td>0</td>\n",
       "      <td>0</td>\n",
       "      <td>0</td>\n",
       "      <td>0</td>\n",
       "      <td>1</td>\n",
       "      <td>0</td>\n",
       "      <td>0</td>\n",
       "      <td>0</td>\n",
       "      <td>0</td>\n",
       "      <td>1</td>\n",
       "      <td>0</td>\n",
       "      <td>0</td>\n",
       "      <td>0</td>\n",
       "    </tr>\n",
       "  </tbody>\n",
       "</table>\n",
       "</div>"
      ],
      "text/plain": [
       "   YearlyIncome       Age  HomeOwnerFlag_1  Gender_M  MaritalStatus_S  \\\n",
       "0      0.414102  0.521739                0         0                1   \n",
       "1      0.484647  0.231884                1         1                0   \n",
       "2      0.505285  0.681159                1         0                0   \n",
       "3      0.629202  0.318841                1         1                0   \n",
       "4      0.066268  0.231884                1         0                0   \n",
       "\n",
       "   CountryRegionName_Canada  CountryRegionName_France  \\\n",
       "0                         0                         0   \n",
       "1                         1                         0   \n",
       "2                         0                         0   \n",
       "3                         0                         0   \n",
       "4                         0                         1   \n",
       "\n",
       "   CountryRegionName_Germany  CountryRegionName_United Kingdom  \\\n",
       "0                          0                                 0   \n",
       "1                          0                                 0   \n",
       "2                          0                                 0   \n",
       "3                          0                                 0   \n",
       "4                          0                                 0   \n",
       "\n",
       "   CountryRegionName_United States  Education_Graduate Degree  \\\n",
       "0                                1                          0   \n",
       "1                                0                          0   \n",
       "2                                1                          1   \n",
       "3                                1                          1   \n",
       "4                                0                          0   \n",
       "\n",
       "   Education_High School  Education_Partial College  \\\n",
       "0                      0                          0   \n",
       "1                      0                          0   \n",
       "2                      0                          0   \n",
       "3                      0                          0   \n",
       "4                      1                          0   \n",
       "\n",
       "   Education_Partial High School  Occupation_Management  Occupation_Manual  \\\n",
       "0                              0                      1                  0   \n",
       "1                              0                      0                  0   \n",
       "2                              0                      1                  0   \n",
       "3                              0                      0                  0   \n",
       "4                              0                      0                  1   \n",
       "\n",
       "   Occupation_Professional  Occupation_Skilled Manual  NumberCarsOwned_1  \\\n",
       "0                        0                          0                  0   \n",
       "1                        0                          1                  0   \n",
       "2                        0                          0                  0   \n",
       "3                        0                          1                  0   \n",
       "4                        0                          0                  1   \n",
       "\n",
       "   NumberCarsOwned_2  NumberCarsOwned_3  NumberCarsOwned_4  \\\n",
       "0                  1                  0                  0   \n",
       "1                  1                  0                  0   \n",
       "2                  1                  0                  0   \n",
       "3                  0                  0                  0   \n",
       "4                  0                  0                  0   \n",
       "\n",
       "   NumberChildrenAtHome_1  NumberChildrenAtHome_2  NumberChildrenAtHome_3  \\\n",
       "0                       0                       0                       0   \n",
       "1                       0                       1                       0   \n",
       "2                       0                       0                       0   \n",
       "3                       0                       0                       0   \n",
       "4                       0                       1                       0   \n",
       "\n",
       "   NumberChildrenAtHome_4  NumberChildrenAtHome_5  TotalChildren_1  \\\n",
       "0                       0                       0                0   \n",
       "1                       0                       0                0   \n",
       "2                       0                       0                0   \n",
       "3                       0                       0                0   \n",
       "4                       0                       0                0   \n",
       "\n",
       "   TotalChildren_2  TotalChildren_3  TotalChildren_4  TotalChildren_5  \n",
       "0                0                0                0                1  \n",
       "1                0                0                1                0  \n",
       "2                0                0                1                0  \n",
       "3                0                0                1                0  \n",
       "4                1                0                0                0  "
      ]
     },
     "execution_count": 83,
     "metadata": {},
     "output_type": "execute_result"
    }
   ],
   "source": [
    "print(\"No of rows and columns in test:\", test.shape)\n",
    "\n",
    "test['HomeOwnerFlag'] = test['HomeOwnerFlag'].astype('object')\n",
    "test['NumberCarsOwned'] = test['NumberCarsOwned'].astype('object')\n",
    "test['NumberChildrenAtHome'] = test['NumberChildrenAtHome'].astype('object')\n",
    "test['TotalChildren'] = test['TotalChildren'].astype('object')\n",
    "\n",
    "# Creating dummy variables\n",
    "dummy = pd.get_dummies(test[['HomeOwnerFlag','Gender', 'MaritalStatus', 'CountryRegionName', 'Education', 'Occupation', 'NumberCarsOwned','NumberChildrenAtHome', 'TotalChildren']],\n",
    "                      prefix=['HomeOwnerFlag','Gender', 'MaritalStatus', 'CountryRegionName', 'Education', 'Occupation', 'NumberCarsOwned', 'NumberChildrenAtHome','TotalChildren'],\n",
    "                      drop_first=True)\n",
    "# Join the dummy variables to the main dataframe\n",
    "test = pd.concat([test, dummy], axis=1)\n",
    "\n",
    "# Dropping original variable\n",
    "test = test.drop(['HomeOwnerFlag', 'Gender', 'MaritalStatus','CountryRegionName', 'Education', 'Occupation', 'NumberCarsOwned', 'NumberChildrenAtHome', 'TotalChildren'], axis = 1)\n",
    "\n",
    "# Feature Scaling\n",
    "test[['YearlyIncome', 'Age']] = scaler.transform(test[['YearlyIncome', 'Age']])\n",
    "\n",
    "print(\"No of rows and columns in test:\", test.shape)\n",
    "\n",
    "print(test.dtypes)\n",
    "test.head()"
   ]
  },
  {
   "cell_type": "code",
   "execution_count": 87,
   "metadata": {},
   "outputs": [
    {
     "name": "stdout",
     "output_type": "stream",
     "text": [
      "0    294\n",
      "1    206\n",
      "Name: BikeBuyer, dtype: int64\n"
     ]
    },
    {
     "data": {
      "text/html": [
       "<div>\n",
       "<style scoped>\n",
       "    .dataframe tbody tr th:only-of-type {\n",
       "        vertical-align: middle;\n",
       "    }\n",
       "\n",
       "    .dataframe tbody tr th {\n",
       "        vertical-align: top;\n",
       "    }\n",
       "\n",
       "    .dataframe thead th {\n",
       "        text-align: right;\n",
       "    }\n",
       "</style>\n",
       "<table border=\"1\" class=\"dataframe\">\n",
       "  <thead>\n",
       "    <tr style=\"text-align: right;\">\n",
       "      <th></th>\n",
       "      <th>CustomerID</th>\n",
       "      <th>BikeBuyer</th>\n",
       "    </tr>\n",
       "  </thead>\n",
       "  <tbody>\n",
       "    <tr>\n",
       "      <th>0</th>\n",
       "      <td>18988</td>\n",
       "      <td>0</td>\n",
       "    </tr>\n",
       "    <tr>\n",
       "      <th>1</th>\n",
       "      <td>29135</td>\n",
       "      <td>1</td>\n",
       "    </tr>\n",
       "    <tr>\n",
       "      <th>2</th>\n",
       "      <td>12156</td>\n",
       "      <td>0</td>\n",
       "    </tr>\n",
       "    <tr>\n",
       "      <th>3</th>\n",
       "      <td>13749</td>\n",
       "      <td>0</td>\n",
       "    </tr>\n",
       "    <tr>\n",
       "      <th>4</th>\n",
       "      <td>27780</td>\n",
       "      <td>0</td>\n",
       "    </tr>\n",
       "  </tbody>\n",
       "</table>\n",
       "</div>"
      ],
      "text/plain": [
       "   CustomerID  BikeBuyer\n",
       "0       18988          0\n",
       "1       29135          1\n",
       "2       12156          0\n",
       "3       13749          0\n",
       "4       27780          0"
      ]
     },
     "execution_count": 87,
     "metadata": {},
     "output_type": "execute_result"
    }
   ],
   "source": [
    "y_predict_test = clf.predict(test)\n",
    "Submission = pd.DataFrame()\n",
    "Submission['CustomerID'] = AW_test['CustomerID']\n",
    "Submission['BikeBuyer'] = y_predict_test\n",
    "\n",
    "\n",
    "print(Submission['BikeBuyer'].value_counts())\n",
    "Submission.head()"
   ]
  },
  {
   "cell_type": "code",
   "execution_count": 88,
   "metadata": {},
   "outputs": [],
   "source": [
    "Submission.to_csv(\"E:/Data Science/Microsoft certification/Principal of Machine Learning/Project/Output/Submission_classification_v1.csv\", \n",
    "                  index = False)"
   ]
  }
 ],
 "metadata": {
  "kernelspec": {
   "display_name": "Python 3",
   "language": "python",
   "name": "python3"
  },
  "language_info": {
   "codemirror_mode": {
    "name": "ipython",
    "version": 3
   },
   "file_extension": ".py",
   "mimetype": "text/x-python",
   "name": "python",
   "nbconvert_exporter": "python",
   "pygments_lexer": "ipython3",
   "version": "3.7.1"
  }
 },
 "nbformat": 4,
 "nbformat_minor": 2
}
